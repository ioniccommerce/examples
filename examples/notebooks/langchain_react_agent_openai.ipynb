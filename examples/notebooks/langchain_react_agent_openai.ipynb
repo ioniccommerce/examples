{
 "cells": [
  {
   "cell_type": "markdown",
   "id": "b8a4b767fd2c8b46",
   "metadata": {
    "collapsed": false
   },
   "source": [
    "# Ionic with LangChain's ReAct agent and OpenAI GPT-3.5-turbo\n",
    "\n",
    "[![Open In Colab](https://colab.research.google.com/assets/colab-badge.svg)](https://colab.research.google.com/github/ioniccommerce/examples/blob/main/examples/notebooks/langchain_react_agent_openai.ipynb)"
   ]
  },
  {
   "cell_type": "markdown",
   "id": "d62b4ab031f2a9a7",
   "metadata": {
    "collapsed": false
   },
   "source": [
    "### Install dependencies"
   ]
  },
  {
   "cell_type": "code",
   "execution_count": null,
   "id": "6f1baf1217a5cea7",
   "metadata": {
    "collapsed": false
   },
   "outputs": [],
   "source": [
    "%%bash\n",
    "\n",
    "pip install --upgrade pip\n",
    "pip install langchain langchain_openai langchainhub\n",
    "pip install ionic-langchain"
   ]
  },
  {
   "cell_type": "markdown",
   "id": "7234327f0f99df6c",
   "metadata": {
    "collapsed": false
   },
   "source": [
    "### Setup OpenAI Key\n",
    "Create an API key at [OpenAI | API Keys](https://platform.openai.com/api-keys)\n",
    "Either set your environment variable:\n",
    "`export OPENAI_API_KEY=<YOUR_API_KEY_HERE` \n",
    "\n",
    "Or edit the following code block and replace \"YOUR_API_KEY_HERE\" with your key."
   ]
  },
  {
   "cell_type": "code",
   "execution_count": 2,
   "id": "5d86ab6620a9d879",
   "metadata": {
    "ExecuteTime": {
     "end_time": "2024-02-07T21:48:54.096374Z",
     "start_time": "2024-02-07T21:48:54.090032Z"
    },
    "collapsed": false
   },
   "outputs": [],
   "source": [
    "import os\n",
    "\n",
    "openai_api_key = os.environ.get(\"OPENAI_API_KEY\", \"YOUR_API_KEY_HERE\") "
   ]
  },
  {
   "cell_type": "markdown",
   "id": "b24413a3fa2f8ebc",
   "metadata": {
    "collapsed": false
   },
   "source": [
    "### Create your Agent with the Ionic Commerce Tool"
   ]
  },
  {
   "cell_type": "code",
   "execution_count": 3,
   "id": "743fe10004227dcd",
   "metadata": {
    "ExecuteTime": {
     "end_time": "2024-02-07T21:49:38.043018Z",
     "start_time": "2024-02-07T21:49:34.784219Z"
    },
    "collapsed": false
   },
   "outputs": [],
   "source": [
    "from ionic_langchain.tool import Ionic, IonicTool\n",
    "from langchain import hub\n",
    "from langchain.agents import AgentExecutor, Tool, create_react_agent\n",
    "from langchain_openai import OpenAI\n",
    "\n",
    "# Based on ReAct Agent\n",
    "# https://python.langchain.com/docs/modules/agents/agent_types/react\n",
    "# Please reach out to support@ionicapi.com for help with add'l agent types.\n",
    "\n",
    "model = \"gpt-3.5-turbo-instruct\"\n",
    "temperature = 0.6\n",
    "\n",
    "llm = OpenAI(openai_api_key=openai_api_key, model_name=model, temperature=temperature)\n",
    "\n",
    "ionic_tool = IonicTool().tool()\n",
    "\n",
    "# The tool comes with its own prompt,\n",
    "# but you may also update it directly via the description attribute:\n",
    "ionic_tool.description = str(\n",
    "    \"\"\"\n",
    "Ionic is an e-commerce shopping tool. Assistant uses the Ionic Commerce Shopping Tool to find, discover, and compare products from thousands of online retailers. Assistant should use the tool when the user is looking for a product recommendation or trying to find a specific product.\n",
    "\n",
    "The user may specify the number of results, minimum price, and maximum price for which they want to see results.\n",
    "Ionic Tool input is a comma-separated string of values:\n",
    "  - query string (required, must not include commas)\n",
    "  - number of results (default to 4, no more than 10)\n",
    "  - minimum price in cents ($5 becomes 500)\n",
    "  - maximum price in cents\n",
    "For example, if looking for coffee beans between 5 and 10 dollars, the tool input would be `coffee beans, 5, 500, 1000`.\n",
    "\n",
    "Return them as a markdown formatted list with each recommendation from tool results, being sure to include the full PDP URL. For example:\n",
    "\n",
    "1. Product 1: [Price] -- link\n",
    "2. Product 2: [Price] -- link\n",
    "3. Product 3: [Price] -- link\n",
    "4. Product 4: [Price] -- link\n",
    "\"\"\"\n",
    ")\n",
    "\n",
    "tools = [ionic_tool]\n",
    "\n",
    "# default prompt for create_react_agent\n",
    "prompt = hub.pull(\"hwchase17/react\")\n",
    "\n",
    "agent = create_react_agent(\n",
    "    llm,\n",
    "    tools,\n",
    "    prompt=prompt,\n",
    ")\n",
    "\n",
    "agent_executor = AgentExecutor(\n",
    "    agent=agent, tools=tools, handle_parsing_errors=True, verbose=True, max_iterations=5\n",
    ")"
   ]
  },
  {
   "cell_type": "markdown",
   "id": "b0b3bfeffcee2bc8",
   "metadata": {
    "collapsed": false
   },
   "source": [
    "### Run the Agent"
   ]
  },
  {
   "cell_type": "code",
   "execution_count": 4,
   "id": "c1713fb2e556ef68",
   "metadata": {
    "ExecuteTime": {
     "end_time": "2024-02-07T21:50:12.962001Z",
     "start_time": "2024-02-07T21:50:04.617813Z"
    },
    "collapsed": false
   },
   "outputs": [
    {
     "name": "stdout",
     "output_type": "stream",
     "text": [
      "\n",
      "\n",
      "\u001b[1m> Entering new AgentExecutor chain...\u001b[0m\n",
      "\u001b[32;1m\u001b[1;3m I should use the Ionic Commerce Shopping Tool to find 4k monitors for the user.\n",
      "Action: ionic_commerce_shopping_tool\n",
      "Action Input: 4k monitor, 10, 0, 100000\u001b[0m\u001b[36;1m\u001b[1;3m[{'products': [{'links': [{'text': 'Details', 'type': 'pdp', 'url': 'https://www.amazon.com/dp/B098HQ8YRX?tag=ioniccommer00-20&linkCode=osi&th=1&psc=1'}], 'merchant_name': 'Amazon', 'merchant_product_id': 'B098HQ8YRX', 'name': 'Sceptre 4K IPS 27\" 3840 x 2160 UHD Monitor up to 70Hz DisplayPort HDMI 99% sRGB Build-in Speakers, Black 2021 (U275W-UPT)', 'price': '$169.97', 'status': 'available', 'thumbnail': 'https://m.media-amazon.com/images/I/41URcXrndAL._SL160_.jpg', 'brand_name': 'SCEPTRE', 'upc': None}, {'links': [{'text': 'Details', 'type': 'pdp', 'url': 'https://brwi.short.gy/U7ovsY'}], 'merchant_name': 'Walmart', 'merchant_product_id': '467011991', 'name': 'Sceptre 4K IPS 27\" 3840 x 2160 UHD Monitor up to 70Hz DisplayPort HDMI 99% sRGB Build-in Speakers, Machine Black (U275W-UPT)', 'price': '$169.97', 'status': 'available', 'thumbnail': 'https://i5.walmartimages.com/asr/02decf19-4c2b-471f-a6b9-a4ace660b625.fa86eb00b4d8bb56df27fc52df26d937.jpeg?odnHeight=100&odnWidth=100&odnBg=ffffff', 'brand_name': 'Sceptre', 'upc': '792343327752'}, {'links': [{'text': 'Details', 'type': 'pdp', 'url': 'https://brwi.short.gy/HFpqjN'}], 'merchant_name': 'Anker', 'merchant_product_id': 'product_12521_A83150A1', 'name': 'PowerExpand USB-C to DisplayPort Adapter Default Title', 'price': '$19.99', 'status': 'available', 'thumbnail': 'https://cdn.shopify.com/s/files/1/0493/9834/9974/products/1_e96a854c-8a8d-44ef-a373-edb77c57c3bd.jpg?v=1614697073', 'brand_name': 'Anker', 'upc': ''}, {'links': [{'text': 'Details', 'type': 'pdp', 'url': 'https://brwi.short.gy/ftvaKh'}], 'merchant_name': 'Walmart', 'merchant_product_id': '135427918', 'name': 'SAMSUNG 32\" Class ViewFinity Curved Wide Screen 4K UHD (3840 x 2160) Monitor- LU32R590CWNXZA', 'price': '$449.99', 'status': 'available', 'thumbnail': 'https://i5.walmartimages.com/asr/101eea42-64af-414c-9959-ca84d47a3dd8.d758651afab97e2cfc2c35c1d3299f92.jpeg?odnHeight=100&odnWidth=100&odnBg=ffffff', 'brand_name': 'Samsung', 'upc': '887276301075'}, {'links': [{'text': 'Details', 'type': 'pdp', 'url': 'https://www.amazon.com/dp/B07CS3JGPC?tag=ioniccommer00-20&linkCode=osi&th=1&psc=1'}], 'merchant_name': 'Amazon', 'merchant_product_id': 'B07CS3JGPC', 'name': 'SAMSUNG UJ59 Series 32-Inch 4K UHD (3840x2160) Computer Monitor, HDMI, Display Port, Eye Saver/Flicker Free Mode, FreeSync (LU32J590UQNXZA),Black', 'price': '$279.99', 'status': 'available', 'thumbnail': 'https://m.media-amazon.com/images/I/41GAyJn9DDL._SL160_.jpg', 'brand_name': 'Samsung', 'upc': None}, {'links': [{'text': 'Details', 'type': 'pdp', 'url': 'https://brwi.short.gy/u1ccW9'}], 'merchant_name': 'Anker', 'merchant_product_id': 'product_12521_A8730011', 'name': 'Anker Nylon USB-C to HDMI 4K Cable Gray', 'price': '$27.99', 'status': 'available', 'thumbnail': 'https://cdn.shopify.com/s/files/1/0493/9834/9974/products/71xPCxLibnL.jpg?v=1622442549', 'brand_name': 'Anker', 'upc': ''}, {'links': [{'text': 'Details', 'type': 'pdp', 'url': 'https://brwi.short.gy/vYnxMI'}], 'merchant_name': 'Walmart', 'merchant_product_id': '2167141300', 'name': 'MSI 32\" 144 Hz UHD gaming monitor FreeSync Premium (AMD Adaptive Sync) 3840 x 2160 (4K) ADOBE RGB / DCI-P3 / SRGB 90% / 91% / 114% G321CU', 'price': '$429.99', 'status': 'available', 'thumbnail': 'https://i5.walmartimages.com/asr/2f1dda11-e06f-43da-8985-5d45598b61e9.dea49aa94c4ed9550cd0c08b7f292491.jpeg?odnHeight=100&odnWidth=100&odnBg=ffffff', 'brand_name': 'MSI', 'upc': '824142297995'}, {'links': [{'text': 'Details', 'type': 'pdp', 'url': 'https://www.amazon.com/dp/B084V9CJB1?tag=ioniccommer00-20&linkCode=osi&th=1&psc=1'}], 'merchant_name': 'Amazon', 'merchant_product_id': 'B084V9CJB1', 'name': 'SAMSUNG 28-Inch ViewFinity UR55 Series 4K UHD IPS Computer Monitor, HDR10, AMD FreeSync, HDMI 2.0 and DisplayPort 1.2, Bezelless Display, Eye Care, LU28R550UQNXZA, 2023', 'price': '$249.99', 'status': 'available', 'thumbnail': 'https://m.media-amazon.com/images/I/41etykq-WqL._SL160_.jpg', 'brand_name': 'SAMSUNG', 'upc': None}, {'links': [{'text': 'Details', 'type': 'pdp', 'url': 'https://brwi.short.gy/byx5Kx'}], 'merchant_name': 'Anker', 'merchant_product_id': 'product_12521_A83820A1', 'name': 'Anker 655 USB-C Hub (8-in-1) Charcoal Gray', 'price': '$89.99', 'status': 'available', 'thumbnail': 'https://cdn.shopify.com/s/files/1/0493/9834/9974/products/A83820A1_TD01_V1.jpg?v=1648195200', 'brand_name': 'Anker', 'upc': ''}, {'links': [{'text': 'Details', 'type': 'pdp', 'url': 'https://brwi.short.gy/Wg68Kl'}], 'merchant_name': 'Anker', 'merchant_product_id': 'product_12521_A8382021', 'name': 'Anker 655 USB-C Hub (8-in-1) Earthy White', 'price': '$84.99', 'status': 'available', 'thumbnail': 'https://cdn.shopify.com/s/files/1/0493/9834/9974/products/A8382021_TD01_V1.jpg?v=1648195200', 'brand_name': 'Anker', 'upc': ''}], 'query': {'query': '4k monitor', 'max_price': 100000, 'min_price': 0, 'num_results': 10}}]\u001b[0m\u001b[32;1m\u001b[1;3m I now know the final answer\n",
      "Final Answer: 1. Sceptre 4K IPS 27\" 3840 x 2160 UHD Monitor up to 70Hz DisplayPort HDMI 99% sRGB Build-in Speakers, Black 2021 (U275W-UPT): $169.97 -- https://www.amazon.com/dp/B098HQ8YRX?tag=ioniccommer00-20&linkCode=osi&th=1&psc=1\n",
      "2. Sceptre 4K IPS 27\" 3840 x 2160 UHD Monitor up to 70Hz DisplayPort HDMI 99% sRGB Build-in Speakers, Machine Black (U275W-UPT): $169.97 -- https://brwi.short.gy/U7ovsY\n",
      "3. PowerExpand USB-C to DisplayPort Adapter Default Title: $19.99 -- https://brwi.short.gy/HFpqjN\n",
      "4. SAMSUNG 32\" Class ViewFinity Curved Wide Screen 4K UHD (3840 x 2160) Monitor- LU32R590CWNXZA: $449.99 -- https://brwi.short.gy/ftvaKh\n",
      "\u001b[0m\n",
      "\n",
      "\u001b[1m> Finished chain.\u001b[0m\n"
     ]
    },
    {
     "data": {
      "text/plain": [
       "{'input': \"I'm looking for a new 4k monitor can you find me some options for less than $1000\",\n",
       " 'output': '1. Sceptre 4K IPS 27\" 3840 x 2160 UHD Monitor up to 70Hz DisplayPort HDMI 99% sRGB Build-in Speakers, Black 2021 (U275W-UPT): $169.97 -- https://www.amazon.com/dp/B098HQ8YRX?tag=ioniccommer00-20&linkCode=osi&th=1&psc=1\\n2. Sceptre 4K IPS 27\" 3840 x 2160 UHD Monitor up to 70Hz DisplayPort HDMI 99% sRGB Build-in Speakers, Machine Black (U275W-UPT): $169.97 -- https://brwi.short.gy/U7ovsY\\n3. PowerExpand USB-C to DisplayPort Adapter Default Title: $19.99 -- https://brwi.short.gy/HFpqjN\\n4. SAMSUNG 32\" Class ViewFinity Curved Wide Screen 4K UHD (3840 x 2160) Monitor- LU32R590CWNXZA: $449.99 -- https://brwi.short.gy/ftvaKh'}"
      ]
     },
     "execution_count": 4,
     "metadata": {},
     "output_type": "execute_result"
    }
   ],
   "source": [
    "input = (\n",
    "    \"I'm looking for a new 4k monitor can you find me some options for less than $1000\"\n",
    ")\n",
    "agent_executor.invoke({\"input\": input})"
   ]
  }
 ],
 "metadata": {
  "kernelspec": {
   "display_name": "Python 3",
   "language": "python",
   "name": "python3"
  },
  "language_info": {
   "codemirror_mode": {
    "name": "ipython",
    "version": 2
   },
   "file_extension": ".py",
   "mimetype": "text/x-python",
   "name": "python",
   "nbconvert_exporter": "python",
   "pygments_lexer": "ipython2",
   "version": "3.11.5"
  }
 },
 "nbformat": 4,
 "nbformat_minor": 5
}
