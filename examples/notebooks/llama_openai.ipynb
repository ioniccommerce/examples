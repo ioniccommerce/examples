{
 "cells": [
  {
   "cell_type": "markdown",
   "source": [
    "# Ionic using Llama OpenAI Example\n",
    "\n",
    "[![Open In Colab](https://colab.research.google.com/assets/colab-badge.svg)](https://colab.research.google.com/github/ioniccommerce/examples/blob/main/examples/notebooks/llama_openai.ipynb)\n",
    "\n",
    "[Ionic](https://www.ioniccommerce.com/) is a plug and play ecommerce marketplace for AI Assistants. By using Ionic, you are effortlessly providing your users with the ability to shop and transact directly within your agent, and you'll get a cut of the transaction.\n",
    "\n",
    "This is a basic jupyter notebook demonstrating how to integrate the Ionic Shopping Tool. For more information on setting up your Agent with Ionic, see the Ionic [documentation](https://docs.ioniccommerce.com/introduction).\n",
    "\n",
    "This Jupyter Notebook demonstrates how to use the Ionic tool with an Agent.\n",
    "\n",
    "---\n",
    "\n",
    "## Setup the Tool\n",
    "### First, let's install our dependencies\n",
    "`llama-hub` @ `0.0.79` does not exist yet."
   ],
   "metadata": {
    "collapsed": false
   },
   "id": "8024471faac3a296"
  },
  {
   "cell_type": "code",
   "outputs": [
    {
     "name": "stdout",
     "output_type": "stream",
     "text": [
      "Requirement already satisfied: llama-index in /Users/jarod/Projects/ionic_examples/.venv/lib/python3.11/site-packages (0.9.45.post1)\r\n",
      "Requirement already satisfied: llama-hub==0.0.78 in /Users/jarod/Projects/ionic_examples/.venv/lib/python3.11/site-packages (0.0.78)\r\n",
      "Requirement already satisfied: ionic-api-sdk in /Users/jarod/Projects/ionic_examples/.venv/lib/python3.11/site-packages (0.7.1)\r\n",
      "Requirement already satisfied: html2text in /Users/jarod/Projects/ionic_examples/.venv/lib/python3.11/site-packages (from llama-hub==0.0.78) (2020.1.16)\r\n",
      "Requirement already satisfied: psutil in /Users/jarod/Projects/ionic_examples/.venv/lib/python3.11/site-packages (from llama-hub==0.0.78) (5.9.8)\r\n",
      "Requirement already satisfied: pyaml<24.0.0,>=23.9.7 in /Users/jarod/Projects/ionic_examples/.venv/lib/python3.11/site-packages (from llama-hub==0.0.78) (23.12.0)\r\n",
      "Requirement already satisfied: retrying in /Users/jarod/Projects/ionic_examples/.venv/lib/python3.11/site-packages (from llama-hub==0.0.78) (1.3.4)\r\n",
      "Requirement already satisfied: SQLAlchemy>=1.4.49 in /Users/jarod/Projects/ionic_examples/.venv/lib/python3.11/site-packages (from SQLAlchemy[asyncio]>=1.4.49->llama-index) (2.0.25)\r\n",
      "Requirement already satisfied: aiohttp<4.0.0,>=3.8.6 in /Users/jarod/Projects/ionic_examples/.venv/lib/python3.11/site-packages (from llama-index) (3.9.3)\r\n",
      "Requirement already satisfied: dataclasses-json in /Users/jarod/Projects/ionic_examples/.venv/lib/python3.11/site-packages (from llama-index) (0.6.4)\r\n",
      "Requirement already satisfied: deprecated>=1.2.9.3 in /Users/jarod/Projects/ionic_examples/.venv/lib/python3.11/site-packages (from llama-index) (1.2.14)\r\n",
      "Requirement already satisfied: dirtyjson<2.0.0,>=1.0.8 in /Users/jarod/Projects/ionic_examples/.venv/lib/python3.11/site-packages (from llama-index) (1.0.8)\r\n",
      "Requirement already satisfied: fsspec>=2023.5.0 in /Users/jarod/Projects/ionic_examples/.venv/lib/python3.11/site-packages (from llama-index) (2024.2.0)\r\n",
      "Requirement already satisfied: httpx in /Users/jarod/Projects/ionic_examples/.venv/lib/python3.11/site-packages (from llama-index) (0.26.0)\r\n",
      "Requirement already satisfied: nest-asyncio<2.0.0,>=1.5.8 in /Users/jarod/Projects/ionic_examples/.venv/lib/python3.11/site-packages (from llama-index) (1.6.0)\r\n",
      "Requirement already satisfied: networkx>=3.0 in /Users/jarod/Projects/ionic_examples/.venv/lib/python3.11/site-packages (from llama-index) (3.2.1)\r\n",
      "Requirement already satisfied: nltk<4.0.0,>=3.8.1 in /Users/jarod/Projects/ionic_examples/.venv/lib/python3.11/site-packages (from llama-index) (3.8.1)\r\n",
      "Requirement already satisfied: numpy in /Users/jarod/Projects/ionic_examples/.venv/lib/python3.11/site-packages (from llama-index) (1.26.4)\r\n",
      "Requirement already satisfied: openai>=1.1.0 in /Users/jarod/Projects/ionic_examples/.venv/lib/python3.11/site-packages (from llama-index) (1.11.1)\r\n",
      "Requirement already satisfied: pandas in /Users/jarod/Projects/ionic_examples/.venv/lib/python3.11/site-packages (from llama-index) (2.2.0)\r\n",
      "Requirement already satisfied: requests>=2.31.0 in /Users/jarod/Projects/ionic_examples/.venv/lib/python3.11/site-packages (from llama-index) (2.31.0)\r\n",
      "Requirement already satisfied: tenacity<9.0.0,>=8.2.0 in /Users/jarod/Projects/ionic_examples/.venv/lib/python3.11/site-packages (from llama-index) (8.2.3)\r\n",
      "Requirement already satisfied: tiktoken>=0.3.3 in /Users/jarod/Projects/ionic_examples/.venv/lib/python3.11/site-packages (from llama-index) (0.5.2)\r\n",
      "Requirement already satisfied: typing-extensions>=4.5.0 in /Users/jarod/Projects/ionic_examples/.venv/lib/python3.11/site-packages (from llama-index) (4.9.0)\r\n",
      "Requirement already satisfied: typing-inspect>=0.8.0 in /Users/jarod/Projects/ionic_examples/.venv/lib/python3.11/site-packages (from llama-index) (0.9.0)\r\n",
      "Requirement already satisfied: certifi>=2023.7.22 in /Users/jarod/Projects/ionic_examples/.venv/lib/python3.11/site-packages (from ionic-api-sdk) (2024.2.2)\r\n",
      "Requirement already satisfied: charset-normalizer>=3.2.0 in /Users/jarod/Projects/ionic_examples/.venv/lib/python3.11/site-packages (from ionic-api-sdk) (3.3.2)\r\n",
      "Requirement already satisfied: idna>=3.4 in /Users/jarod/Projects/ionic_examples/.venv/lib/python3.11/site-packages (from ionic-api-sdk) (3.6)\r\n",
      "Requirement already satisfied: jsonpath-python>=1.0.6 in /Users/jarod/Projects/ionic_examples/.venv/lib/python3.11/site-packages (from ionic-api-sdk) (1.0.6)\r\n",
      "Requirement already satisfied: marshmallow>=3.19.0 in /Users/jarod/Projects/ionic_examples/.venv/lib/python3.11/site-packages (from ionic-api-sdk) (3.20.2)\r\n",
      "Requirement already satisfied: mypy-extensions>=1.0.0 in /Users/jarod/Projects/ionic_examples/.venv/lib/python3.11/site-packages (from ionic-api-sdk) (1.0.0)\r\n",
      "Requirement already satisfied: packaging>=23.1 in /Users/jarod/Projects/ionic_examples/.venv/lib/python3.11/site-packages (from ionic-api-sdk) (23.2)\r\n",
      "Requirement already satisfied: python-dateutil>=2.8.2 in /Users/jarod/Projects/ionic_examples/.venv/lib/python3.11/site-packages (from ionic-api-sdk) (2.8.2)\r\n",
      "Requirement already satisfied: six>=1.16.0 in /Users/jarod/Projects/ionic_examples/.venv/lib/python3.11/site-packages (from ionic-api-sdk) (1.16.0)\r\n",
      "Requirement already satisfied: urllib3>=1.26.18 in /Users/jarod/Projects/ionic_examples/.venv/lib/python3.11/site-packages (from ionic-api-sdk) (2.2.0)\r\n",
      "Requirement already satisfied: aiosignal>=1.1.2 in /Users/jarod/Projects/ionic_examples/.venv/lib/python3.11/site-packages (from aiohttp<4.0.0,>=3.8.6->llama-index) (1.3.1)\r\n",
      "Requirement already satisfied: attrs>=17.3.0 in /Users/jarod/Projects/ionic_examples/.venv/lib/python3.11/site-packages (from aiohttp<4.0.0,>=3.8.6->llama-index) (23.2.0)\r\n",
      "Requirement already satisfied: frozenlist>=1.1.1 in /Users/jarod/Projects/ionic_examples/.venv/lib/python3.11/site-packages (from aiohttp<4.0.0,>=3.8.6->llama-index) (1.4.1)\r\n",
      "Requirement already satisfied: multidict<7.0,>=4.5 in /Users/jarod/Projects/ionic_examples/.venv/lib/python3.11/site-packages (from aiohttp<4.0.0,>=3.8.6->llama-index) (6.0.5)\r\n",
      "Requirement already satisfied: yarl<2.0,>=1.0 in /Users/jarod/Projects/ionic_examples/.venv/lib/python3.11/site-packages (from aiohttp<4.0.0,>=3.8.6->llama-index) (1.9.4)\r\n",
      "Requirement already satisfied: wrapt<2,>=1.10 in /Users/jarod/Projects/ionic_examples/.venv/lib/python3.11/site-packages (from deprecated>=1.2.9.3->llama-index) (1.14.1)\r\n",
      "Requirement already satisfied: click in /Users/jarod/Projects/ionic_examples/.venv/lib/python3.11/site-packages (from nltk<4.0.0,>=3.8.1->llama-index) (8.1.7)\r\n",
      "Requirement already satisfied: joblib in /Users/jarod/Projects/ionic_examples/.venv/lib/python3.11/site-packages (from nltk<4.0.0,>=3.8.1->llama-index) (1.3.2)\r\n",
      "Requirement already satisfied: regex>=2021.8.3 in /Users/jarod/Projects/ionic_examples/.venv/lib/python3.11/site-packages (from nltk<4.0.0,>=3.8.1->llama-index) (2023.12.25)\r\n",
      "Requirement already satisfied: tqdm in /Users/jarod/Projects/ionic_examples/.venv/lib/python3.11/site-packages (from nltk<4.0.0,>=3.8.1->llama-index) (4.66.1)\r\n",
      "Requirement already satisfied: anyio<5,>=3.5.0 in /Users/jarod/Projects/ionic_examples/.venv/lib/python3.11/site-packages (from openai>=1.1.0->llama-index) (4.2.0)\r\n",
      "Requirement already satisfied: distro<2,>=1.7.0 in /Users/jarod/Projects/ionic_examples/.venv/lib/python3.11/site-packages (from openai>=1.1.0->llama-index) (1.9.0)\r\n",
      "Requirement already satisfied: pydantic<3,>=1.9.0 in /Users/jarod/Projects/ionic_examples/.venv/lib/python3.11/site-packages (from openai>=1.1.0->llama-index) (1.10.14)\r\n",
      "Requirement already satisfied: sniffio in /Users/jarod/Projects/ionic_examples/.venv/lib/python3.11/site-packages (from openai>=1.1.0->llama-index) (1.3.0)\r\n",
      "Requirement already satisfied: httpcore==1.* in /Users/jarod/Projects/ionic_examples/.venv/lib/python3.11/site-packages (from httpx->llama-index) (1.0.2)\r\n",
      "Requirement already satisfied: h11<0.15,>=0.13 in /Users/jarod/Projects/ionic_examples/.venv/lib/python3.11/site-packages (from httpcore==1.*->httpx->llama-index) (0.14.0)\r\n",
      "Requirement already satisfied: PyYAML in /Users/jarod/Projects/ionic_examples/.venv/lib/python3.11/site-packages (from pyaml<24.0.0,>=23.9.7->llama-hub==0.0.78) (6.0.1)\r\n",
      "Requirement already satisfied: greenlet!=0.4.17 in /Users/jarod/Projects/ionic_examples/.venv/lib/python3.11/site-packages (from SQLAlchemy[asyncio]>=1.4.49->llama-index) (3.0.3)\r\n",
      "Requirement already satisfied: pytz>=2020.1 in /Users/jarod/Projects/ionic_examples/.venv/lib/python3.11/site-packages (from pandas->llama-index) (2024.1)\r\n",
      "Requirement already satisfied: tzdata>=2022.7 in /Users/jarod/Projects/ionic_examples/.venv/lib/python3.11/site-packages (from pandas->llama-index) (2023.4)\r\n"
     ]
    }
   ],
   "source": [
    "! pip install llama-index llama-hub==0.0.79 ionic-api-sdk"
   ],
   "metadata": {
    "collapsed": false,
    "ExecuteTime": {
     "end_time": "2024-02-08T21:44:14.246983Z",
     "start_time": "2024-02-08T21:44:12.155186Z"
    }
   },
   "id": "856d9803ec1cdd9c",
   "execution_count": 6
  },
  {
   "cell_type": "markdown",
   "source": [
    "### Configure OpenAI\n",
    "\n",
    "Create an API key at [OpenAI | API Keys](https://platform.openai.com/api-keys)\n",
    "\n",
    "Either set your environment variable: `export OPENAI_API_KEY=<YOUR_API_KEY_HERE` \n",
    "\n",
    "Or edit the following code block and replace \"YOUR_API_KEY_HERE\" with your key. Be careful to not leak your API Key."
   ],
   "metadata": {
    "collapsed": false
   },
   "id": "eedd002505e12801"
  },
  {
   "cell_type": "code",
   "execution_count": 7,
   "id": "initial_id",
   "metadata": {
    "collapsed": true,
    "ExecuteTime": {
     "end_time": "2024-02-08T21:44:19.077211Z",
     "start_time": "2024-02-08T21:44:19.066189Z"
    }
   },
   "outputs": [],
   "source": [
    "import os\n",
    "import openai\n",
    "from llama_index.agent import OpenAIAgent\n",
    "\n",
    "openai.api_key = os.environ.get(\"OPENAI_API_KEY\", \"YOUR_API_KEY_HERE\")"
   ]
  },
  {
   "cell_type": "markdown",
   "source": [
    "### Import and configure the Ionic Shopping Tool \n"
   ],
   "metadata": {
    "collapsed": false
   },
   "id": "8506dd2f8e36cad4"
  },
  {
   "cell_type": "code",
   "outputs": [
    {
     "ename": "ModuleNotFoundError",
     "evalue": "No module named 'llama_hub.tools.ionic_shopping'",
     "output_type": "error",
     "traceback": [
      "\u001B[0;31m---------------------------------------------------------------------------\u001B[0m",
      "\u001B[0;31mModuleNotFoundError\u001B[0m                       Traceback (most recent call last)",
      "Cell \u001B[0;32mIn[8], line 1\u001B[0m\n\u001B[0;32m----> 1\u001B[0m \u001B[38;5;28;01mfrom\u001B[39;00m \u001B[38;5;21;01mllama_hub\u001B[39;00m\u001B[38;5;21;01m.\u001B[39;00m\u001B[38;5;21;01mtools\u001B[39;00m\u001B[38;5;21;01m.\u001B[39;00m\u001B[38;5;21;01mionic_shopping\u001B[39;00m\u001B[38;5;21;01m.\u001B[39;00m\u001B[38;5;21;01mbase\u001B[39;00m \u001B[38;5;28;01mimport\u001B[39;00m IonicShoppingToolSpec\n\u001B[1;32m      3\u001B[0m \u001B[38;5;66;03m# optionally add you Ionic API Key\u001B[39;00m\n\u001B[1;32m      4\u001B[0m \u001B[38;5;66;03m# IonicShoppingToolSpec(api_key=\"<my Ionic API Key>\")\u001B[39;00m\n\u001B[1;32m      5\u001B[0m ionic_tool \u001B[38;5;241m=\u001B[39m IonicShoppingToolSpec()\u001B[38;5;241m.\u001B[39mto_tool_list()\n",
      "\u001B[0;31mModuleNotFoundError\u001B[0m: No module named 'llama_hub.tools.ionic_shopping'"
     ]
    }
   ],
   "source": [
    "from llama_hub.tools.ionic_shopping.base import IonicShoppingToolSpec\n",
    "\n",
    "# optionally add you Ionic API Key\n",
    "# IonicShoppingToolSpec(api_key=\"<my Ionic API Key>\")\n",
    "ionic_tool = IonicShoppingToolSpec().to_tool_list()\n",
    "\n",
    "for tool in ionic_tool:\n",
    "    print(tool.metadata.name)"
   ],
   "metadata": {
    "collapsed": false,
    "ExecuteTime": {
     "end_time": "2024-02-08T21:44:26.539401Z",
     "start_time": "2024-02-08T21:44:26.525607Z"
    }
   },
   "id": "f95ef80d8aa9bd5f",
   "execution_count": 8
  },
  {
   "cell_type": "markdown",
   "source": [
    "### Use Ionic"
   ],
   "metadata": {
    "collapsed": false
   },
   "id": "80b4d128986d4a9"
  },
  {
   "cell_type": "code",
   "outputs": [],
   "source": [
    "agent = OpenAIAgent.from_tools(\n",
    "    ionic_tool,\n",
    ")"
   ],
   "metadata": {
    "collapsed": false,
    "ExecuteTime": {
     "end_time": "2024-01-29T22:46:08.935312Z",
     "start_time": "2024-01-29T22:46:08.780878Z"
    }
   },
   "id": "18bd589c4fd6ef44",
   "execution_count": 4
  },
  {
   "cell_type": "code",
   "outputs": [
    {
     "name": "stdout",
     "output_type": "stream",
     "text": [
      "Query Query(query='5k monitor', max_price=100000, min_price=60000, num_results=3)\n",
      "Here are 3 options for a 5k monitor between $600 and $1000:\n",
      "\n",
      "1. SAMSUNG 27\" ViewFinity S9 Series 5K Computer Monitor - $999.99\n",
      "   - [Details](https://www.amazon.com/dp/B0CB71BY87?tag=ioniccommer00-20&linkCode=osi&th=1&psc=1)\n",
      "   - ![Thumbnail](https://m.media-amazon.com/images/I/41Wy2hc5P2L._SL160_.jpg)\n",
      "   - Brand: SAMSUNG\n",
      "   - Available on Amazon\n",
      "\n",
      "2. SAMSUNG 27\" Class QHD Curved Monitor - $699.99\n",
      "   - [Details](https://brwi.short.gy/qxJVZ6)\n",
      "   - ![Thumbnail](https://i5.walmartimages.com/asr/7794ed18-d65a-4996-abe0-82d2777c779c.5fab7f87d6e84f979a851f61049e549b.jpeg?odnHeight=100&odnWidth=100&odnBg=ffffff)\n",
      "   - Brand: Samsung\n",
      "   - UPC: 887276413129\n",
      "   - Available at Walmart\n",
      "\n",
      "3. SAMSUNG 27\" ViewFinity S9 Series 5K Computer Monitor (Open Box) - $749.99\n",
      "   - [Details](https://brwi.short.gy/YAYBuD)\n",
      "   - ![Thumbnail](https://i.ebayimg.com/thumbs/images/g/qWIAAOSwSxFlRQi2/s-l225.jpg)\n",
      "   - Available on eBay\n",
      "\n",
      "Please let me know if you need more information about any of these options.\n"
     ]
    }
   ],
   "source": [
    "print(\n",
    "    agent.chat(\n",
    "        \"I'm looking for a 5k monitor can you find me 3 options between $600 and $1000\"\n",
    "    )\n",
    ")"
   ],
   "metadata": {
    "collapsed": false,
    "ExecuteTime": {
     "end_time": "2024-01-29T22:46:55.891101Z",
     "start_time": "2024-01-29T22:46:37.542833Z"
    }
   },
   "id": "aa6ee6bd0b1c8f22",
   "execution_count": 6
  }
 ],
 "metadata": {
  "kernelspec": {
   "display_name": "Python 3",
   "language": "python",
   "name": "python3"
  },
  "language_info": {
   "codemirror_mode": {
    "name": "ipython",
    "version": 2
   },
   "file_extension": ".py",
   "mimetype": "text/x-python",
   "name": "python",
   "nbconvert_exporter": "python",
   "pygments_lexer": "ipython2",
   "version": "2.7.6"
  }
 },
 "nbformat": 4,
 "nbformat_minor": 5
}
