{
 "cells": [
  {
   "cell_type": "markdown",
   "source": [
    "# Ionic using LangChain's OpenAI Tools Agent\n",
    "\n",
    "[![Open In Colab](https://colab.research.google.com/assets/colab-badge.svg)](https://colab.research.google.com/github/ioniccommerce/examples/blob/main/examples/notebooks/langchain_openai_tools.ipynb)\n",
    "\n",
    "[Ionic](https://www.ioniccommerce.com/) is a plug and play ecommerce marketplace for AI Assistants. By using Ionic, you are effortlessly providing your users with the ability to shop and transact directly within your agent, and you'll get a cut of the transaction.\n",
    "\n",
    "This is a basic jupyter notebook demonstrating how to integrate the Ionic Shopping Tool. For more information on setting up your Agent with Ionic, see the Ionic [documentation](https://docs.ioniccommerce.com/introduction).\n",
    "\n",
    "This Jupyter Notebook demonstrates how to use Ionic with LangChain's OpenAI Tools Agent."
   ],
   "metadata": {
    "collapsed": false
   },
   "id": "5e82e10f241f145b"
  },
  {
   "cell_type": "markdown",
   "source": [
    "### Install dependencies"
   ],
   "metadata": {
    "collapsed": false
   },
   "id": "a0af9f7769a6dc25"
  },
  {
   "cell_type": "code",
   "execution_count": null,
   "id": "initial_id",
   "metadata": {
    "collapsed": true
   },
   "outputs": [],
   "source": [
    "%%bash\n",
    "\n",
    "pip install --upgrade pip\n",
    "pip install langchain langchain_openai langchainhub\n",
    "pip install ionic-langchain"
   ]
  },
  {
   "cell_type": "markdown",
   "source": [
    "### Setup OpenAI Key\n",
    "Create an API key at [OpenAI | API Keys](https://platform.openai.com/api-keys)\n",
    "\n",
    "Either set your environment variable: `export OPENAI_API_KEY=<YOUR_API_KEY_HERE` \n",
    "\n",
    "Or edit the following code block and replace \"YOUR_API_KEY_HERE\" with your key. Be careful to not leak your API Key."
   ],
   "metadata": {
    "collapsed": false
   },
   "id": "839ab791085e57d9"
  },
  {
   "cell_type": "code",
   "outputs": [],
   "source": [
    "import os\n",
    "\n",
    "openai_api_key = os.environ.get(\"OPENAI_API_KEY\", \"YOUR_API_KEY_HERE\") "
   ],
   "metadata": {
    "collapsed": false,
    "ExecuteTime": {
     "end_time": "2024-02-12T21:16:56.340660Z",
     "start_time": "2024-02-12T21:16:56.334622Z"
    }
   },
   "id": "b0417cb2527d0091",
   "execution_count": 2
  },
  {
   "cell_type": "markdown",
   "source": [
    "### Create your Agent with the Ionic Commerce Tool"
   ],
   "metadata": {
    "collapsed": false
   },
   "id": "6dd42e7ae56cf835"
  },
  {
   "cell_type": "code",
   "outputs": [],
   "source": [
    "from ionic_langchain.tool import IonicTool\n",
    "from langchain import hub\n",
    "from langchain.agents import AgentExecutor, create_openai_tools_agent\n",
    "from langchain_openai import ChatOpenAI\n",
    "\n",
    "# Based on ReAct Agent\n",
    "# https://python.langchain.com/docs/modules/agents/agent_types/react\n",
    "# Please reach out to support@ionicapi.com for help with add'l agent types.\n",
    "\n",
    "model = \"gpt-3.5-turbo-instruct\"\n",
    "temperature = 0.6\n",
    "\n",
    "# Choose the LLM that will drive the agent\n",
    "# Only certain models support this\n",
    "llm = ChatOpenAI(model=\"gpt-3.5-turbo-1106\", temperature=temperature, openai_api_key=openai_api_key)\n",
    "\n",
    "\n",
    "ionic_tool = IonicTool().tool()\n",
    "\n",
    "tools = [ionic_tool]\n",
    "\n",
    "# default prompt for openai tools agent\n",
    "prompt = hub.pull(\"hwchase17/openai-tools-agent\")\n",
    "\n",
    "# Construct the OpenAI Tools agent\n",
    "agent = create_openai_tools_agent(llm, tools, prompt)\n",
    "\n",
    "agent_executor = AgentExecutor(\n",
    "    agent=agent, tools=tools, handle_parsing_errors=True, verbose=True, max_iterations=5\n",
    ")"
   ],
   "metadata": {
    "collapsed": false,
    "ExecuteTime": {
     "end_time": "2024-02-12T21:18:09.873167Z",
     "start_time": "2024-02-12T21:18:09.204219Z"
    }
   },
   "id": "9494c81b904adccb",
   "execution_count": 4
  },
  {
   "cell_type": "markdown",
   "source": [
    "### Run the Agent"
   ],
   "metadata": {
    "collapsed": false
   },
   "id": "c7fffc3bafef8d01"
  },
  {
   "cell_type": "code",
   "outputs": [
    {
     "name": "stdout",
     "output_type": "stream",
     "text": [
      "\n",
      "\n",
      "\u001B[1m> Entering new AgentExecutor chain...\u001B[0m\n",
      "\u001B[32;1m\u001B[1;3m\n",
      "Invoking: `ionic_commerce_shopping_tool` with `4k monitor, 4, 0, 100000`\n",
      "\n",
      "\n",
      "\u001B[0m\u001B[36;1m\u001B[1;3m[{'products': [{'links': [{'text': 'Details', 'type': 'pdp', 'url': 'https://www.amazon.com/dp/B098HQ8YRX?tag=ioniccommer00-20&linkCode=osi&th=1&psc=1'}], 'merchant_name': 'Amazon', 'merchant_product_id': 'B098HQ8YRX', 'name': 'Sceptre 4K IPS 27\" 3840 x 2160 UHD Monitor up to 70Hz DisplayPort HDMI 99% sRGB Build-in Speakers, Black 2021 (U275W-UPT)', 'price': '$169.97', 'status': 'available', 'thumbnail': 'https://m.media-amazon.com/images/I/41URcXrndAL._SL160_.jpg', 'brand_name': 'SCEPTRE', 'upc': None}, {'links': [{'text': 'Details', 'type': 'pdp', 'url': 'https://brwi.short.gy/S1B0J1'}], 'merchant_name': 'Walmart', 'merchant_product_id': '2624247367', 'name': 'Sceptre 32-inch IPS 4K UHD 3840 x 2160 Monitor DisplayPort x2 HDMI x2 99% sRGB Build-in Speakers, Machine Black 2024(U325W-UPT)', 'price': '$199.97', 'status': 'available', 'thumbnail': 'https://i5.walmartimages.com/asr/38d08311-2daf-4c0d-bef2-00b97a4456a1.46fb3d4d3536f493caba5ad8030a71ea.jpeg?odnHeight=100&odnWidth=100&odnBg=ffffff', 'brand_name': 'Sceptre', 'upc': '792343331391'}, {'links': [{'text': 'Details', 'type': 'pdp', 'url': 'https://brwi.short.gy/U7ovsY'}], 'merchant_name': 'Walmart', 'merchant_product_id': '467011991', 'name': 'Sceptre 4K IPS 27\" 3840 x 2160 UHD Monitor up to 70Hz DisplayPort HDMI 99% sRGB Build-in Speakers, Machine Black (U275W-UPT)', 'price': '$169.97', 'status': 'available', 'thumbnail': 'https://i5.walmartimages.com/asr/02decf19-4c2b-471f-a6b9-a4ace660b625.fa86eb00b4d8bb56df27fc52df26d937.jpeg?odnHeight=100&odnWidth=100&odnBg=ffffff', 'brand_name': 'Sceptre', 'upc': '792343327752'}, {'links': [{'text': 'Details', 'type': 'pdp', 'url': 'https://www.amazon.com/dp/B07CS3JGPC?tag=ioniccommer00-20&linkCode=osi&th=1&psc=1'}], 'merchant_name': 'Amazon', 'merchant_product_id': 'B07CS3JGPC', 'name': 'SAMSUNG UJ59 Series 32-Inch 4K UHD (3840x2160) Computer Monitor, HDMI, Display Port, Eye Saver/Flicker Free Mode, FreeSync (LU32J590UQNXZA),Black', 'price': '$279.99', 'status': 'available', 'thumbnail': 'https://m.media-amazon.com/images/I/41GAyJn9DDL._SL160_.jpg', 'brand_name': 'Samsung', 'upc': None}], 'query': {'query': '4k monitor', 'max_price': 100000, 'min_price': 0, 'num_results': 4}}]\u001B[0m\u001B[32;1m\u001B[1;3mHere are some 4K monitor options for less than $1000:\n",
      "\n",
      "1. [Sceptre 4K IPS 27\" 3840 x 2160 UHD Monitor up to 70Hz DisplayPort HDMI 99% sRGB Build-in Speakers, Black 2021 (U275W-UPT)](https://www.amazon.com/dp/B098HQ8YRX?tag=ioniccommer00-20&linkCode=osi&th=1&psc=1) - $169.97 (Amazon)\n",
      "   ![Sceptre 4K IPS 27\" 3840 x 2160 UHD Monitor](https://m.media-amazon.com/images/I/41URcXrndAL._SL160_.jpg)\n",
      "\n",
      "2. [Sceptre 32-inch IPS 4K UHD 3840 x 2160 Monitor DisplayPort x2 HDMI x2 99% sRGB Build-in Speakers, Machine Black 2024(U325W-UPT)](https://brwi.short.gy/S1B0J1) - $199.97 (Walmart)\n",
      "   ![Sceptre 32-inch IPS 4K UHD Monitor](https://i5.walmartimages.com/asr/38d08311-2daf-4c0d-bef2-00b97a4456a1.46fb3d4d3536f493caba5ad8030a71ea.jpeg?odnHeight=100&odnWidth=100&odnBg=ffffff)\n",
      "\n",
      "3. [Sceptre 4K IPS 27\" 3840 x 2160 UHD Monitor up to 70Hz DisplayPort HDMI 99% sRGB Build-in Speakers, Machine Black (U275W-UPT)](https://brwi.short.gy/U7ovsY) - $169.97 (Walmart)\n",
      "   ![Sceptre 4K IPS 27\" 3840 x 2160 UHD Monitor](https://i5.walmartimages.com/asr/02decf19-4c2b-471f-a6b9-a4ace660b625.fa86eb00b4d8bb56df27fc52df26d937.jpeg?odnHeight=100&odnWidth=100&odnBg=ffffff)\n",
      "\n",
      "4. [SAMSUNG UJ59 Series 32-Inch 4K UHD (3840x2160) Computer Monitor, HDMI, Display Port, Eye Saver/Flicker Free Mode, FreeSync (LU32J590UQNXZA),Black](https://www.amazon.com/dp/B07CS3JGPC?tag=ioniccommer00-20&linkCode=osi&th=1&psc=1) - $279.99 (Amazon)\n",
      "   ![SAMSUNG UJ59 Series 32-Inch 4K UHD Monitor](https://m.media-amazon.com/images/I/41GAyJn9DDL._SL160_.jpg)\n",
      "\n",
      "You can explore these options and choose the one that best fits your needs.\u001B[0m\n",
      "\n",
      "\u001B[1m> Finished chain.\u001B[0m\n"
     ]
    },
    {
     "data": {
      "text/plain": "{'input': \"I'm looking for a new 4k monitor can you find me some options for less than $1000\",\n 'output': 'Here are some 4K monitor options for less than $1000:\\n\\n1. [Sceptre 4K IPS 27\" 3840 x 2160 UHD Monitor up to 70Hz DisplayPort HDMI 99% sRGB Build-in Speakers, Black 2021 (U275W-UPT)](https://www.amazon.com/dp/B098HQ8YRX?tag=ioniccommer00-20&linkCode=osi&th=1&psc=1) - $169.97 (Amazon)\\n   ![Sceptre 4K IPS 27\" 3840 x 2160 UHD Monitor](https://m.media-amazon.com/images/I/41URcXrndAL._SL160_.jpg)\\n\\n2. [Sceptre 32-inch IPS 4K UHD 3840 x 2160 Monitor DisplayPort x2 HDMI x2 99% sRGB Build-in Speakers, Machine Black 2024(U325W-UPT)](https://brwi.short.gy/S1B0J1) - $199.97 (Walmart)\\n   ![Sceptre 32-inch IPS 4K UHD Monitor](https://i5.walmartimages.com/asr/38d08311-2daf-4c0d-bef2-00b97a4456a1.46fb3d4d3536f493caba5ad8030a71ea.jpeg?odnHeight=100&odnWidth=100&odnBg=ffffff)\\n\\n3. [Sceptre 4K IPS 27\" 3840 x 2160 UHD Monitor up to 70Hz DisplayPort HDMI 99% sRGB Build-in Speakers, Machine Black (U275W-UPT)](https://brwi.short.gy/U7ovsY) - $169.97 (Walmart)\\n   ![Sceptre 4K IPS 27\" 3840 x 2160 UHD Monitor](https://i5.walmartimages.com/asr/02decf19-4c2b-471f-a6b9-a4ace660b625.fa86eb00b4d8bb56df27fc52df26d937.jpeg?odnHeight=100&odnWidth=100&odnBg=ffffff)\\n\\n4. [SAMSUNG UJ59 Series 32-Inch 4K UHD (3840x2160) Computer Monitor, HDMI, Display Port, Eye Saver/Flicker Free Mode, FreeSync (LU32J590UQNXZA),Black](https://www.amazon.com/dp/B07CS3JGPC?tag=ioniccommer00-20&linkCode=osi&th=1&psc=1) - $279.99 (Amazon)\\n   ![SAMSUNG UJ59 Series 32-Inch 4K UHD Monitor](https://m.media-amazon.com/images/I/41GAyJn9DDL._SL160_.jpg)\\n\\nYou can explore these options and choose the one that best fits your needs.'}"
     },
     "execution_count": 5,
     "metadata": {},
     "output_type": "execute_result"
    }
   ],
   "source": [
    "input = (\n",
    "    \"I'm looking for a new 4k monitor can you find me some options for less than $1000\"\n",
    ")\n",
    "agent_executor.invoke({\"input\": input})"
   ],
   "metadata": {
    "collapsed": false,
    "ExecuteTime": {
     "end_time": "2024-02-12T21:18:29.448001Z",
     "start_time": "2024-02-12T21:18:18.553358Z"
    }
   },
   "id": "c316caac5dfa52db",
   "execution_count": 5
  }
 ],
 "metadata": {
  "kernelspec": {
   "display_name": "Python 3",
   "language": "python",
   "name": "python3"
  },
  "language_info": {
   "codemirror_mode": {
    "name": "ipython",
    "version": 2
   },
   "file_extension": ".py",
   "mimetype": "text/x-python",
   "name": "python",
   "nbconvert_exporter": "python",
   "pygments_lexer": "ipython2",
   "version": "2.7.6"
  }
 },
 "nbformat": 4,
 "nbformat_minor": 5
}
