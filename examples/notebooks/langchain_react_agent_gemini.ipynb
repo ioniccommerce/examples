{
 "cells": [
  {
   "cell_type": "markdown",
   "id": "7dfef8b73bf75987",
   "metadata": {
    "collapsed": false,
    "jupyter": {
     "outputs_hidden": false
    }
   },
   "source": [
    "# Ionic with LangChain's ChatGoogleGenerativeAI agent and Gemini Pro model\n",
    "\n",
    "[![Open In Colab](https://colab.research.google.com/assets/colab-badge.svg)](https://colab.research.google.com/github/ioniccommerce/examples/blob/main/examples/notebooks/langchain_react_agent_gemini.ipynb)"
   ]
  },
  {
   "cell_type": "markdown",
   "id": "8ef36e9cd0b261cb",
   "metadata": {
    "collapsed": false,
    "jupyter": {
     "outputs_hidden": false
    }
   },
   "source": [
    "### Install dependencies"
   ]
  },
  {
   "cell_type": "code",
   "execution_count": 1,
   "id": "10910b7361beb918",
   "metadata": {
    "collapsed": false,
    "jupyter": {
     "outputs_hidden": false
    }
   },
   "outputs": [
    {
     "name": "stdout",
     "output_type": "stream",
     "text": [
      "Requirement already satisfied: pip in /Users/jarod/Projects/ionic_examples/.venv/lib/python3.11/site-packages (24.0)\n",
      "Requirement already satisfied: langchain in /Users/jarod/Projects/ionic_examples/.venv/lib/python3.11/site-packages (0.1.5)\n",
      "Requirement already satisfied: langchain-core in /Users/jarod/Projects/ionic_examples/.venv/lib/python3.11/site-packages (0.1.20)\n",
      "Requirement already satisfied: langchain-google-vertexai in /Users/jarod/Projects/ionic_examples/.venv/lib/python3.11/site-packages (0.0.3)\n",
      "Requirement already satisfied: langchainhub in /Users/jarod/Projects/ionic_examples/.venv/lib/python3.11/site-packages (0.1.14)\n",
      "Requirement already satisfied: PyYAML>=5.3 in /Users/jarod/Projects/ionic_examples/.venv/lib/python3.11/site-packages (from langchain) (6.0.1)\n",
      "Requirement already satisfied: SQLAlchemy<3,>=1.4 in /Users/jarod/Projects/ionic_examples/.venv/lib/python3.11/site-packages (from langchain) (2.0.25)\n",
      "Requirement already satisfied: aiohttp<4.0.0,>=3.8.3 in /Users/jarod/Projects/ionic_examples/.venv/lib/python3.11/site-packages (from langchain) (3.9.3)\n",
      "Requirement already satisfied: dataclasses-json<0.7,>=0.5.7 in /Users/jarod/Projects/ionic_examples/.venv/lib/python3.11/site-packages (from langchain) (0.6.4)\n",
      "Requirement already satisfied: jsonpatch<2.0,>=1.33 in /Users/jarod/Projects/ionic_examples/.venv/lib/python3.11/site-packages (from langchain) (1.33)\n",
      "Requirement already satisfied: langchain-community<0.1,>=0.0.17 in /Users/jarod/Projects/ionic_examples/.venv/lib/python3.11/site-packages (from langchain) (0.0.18)\n",
      "Requirement already satisfied: langsmith<0.1,>=0.0.83 in /Users/jarod/Projects/ionic_examples/.venv/lib/python3.11/site-packages (from langchain) (0.0.87)\n",
      "Requirement already satisfied: numpy<2,>=1 in /Users/jarod/Projects/ionic_examples/.venv/lib/python3.11/site-packages (from langchain) (1.26.4)\n",
      "Requirement already satisfied: pydantic<3,>=1 in /Users/jarod/Projects/ionic_examples/.venv/lib/python3.11/site-packages (from langchain) (1.10.14)\n",
      "Requirement already satisfied: requests<3,>=2 in /Users/jarod/Projects/ionic_examples/.venv/lib/python3.11/site-packages (from langchain) (2.31.0)\n",
      "Requirement already satisfied: tenacity<9.0.0,>=8.1.0 in /Users/jarod/Projects/ionic_examples/.venv/lib/python3.11/site-packages (from langchain) (8.2.3)\n",
      "Requirement already satisfied: anyio<5,>=3 in /Users/jarod/Projects/ionic_examples/.venv/lib/python3.11/site-packages (from langchain-core) (4.2.0)\n",
      "Requirement already satisfied: packaging<24.0,>=23.2 in /Users/jarod/Projects/ionic_examples/.venv/lib/python3.11/site-packages (from langchain-core) (23.2)\n",
      "Requirement already satisfied: google-cloud-aiplatform<2.0.0,>=1.39.0 in /Users/jarod/Projects/ionic_examples/.venv/lib/python3.11/site-packages (from langchain-google-vertexai) (1.40.0)\n",
      "Requirement already satisfied: google-cloud-storage<3.0.0,>=2.14.0 in /Users/jarod/Projects/ionic_examples/.venv/lib/python3.11/site-packages (from langchain-google-vertexai) (2.14.0)\n",
      "Requirement already satisfied: types-protobuf<5.0.0.0,>=4.24.0.4 in /Users/jarod/Projects/ionic_examples/.venv/lib/python3.11/site-packages (from langchain-google-vertexai) (4.24.0.20240129)\n",
      "Requirement already satisfied: types-requests<3.0.0,>=2.31.0 in /Users/jarod/Projects/ionic_examples/.venv/lib/python3.11/site-packages (from langchain-google-vertexai) (2.31.0.20240125)\n",
      "Requirement already satisfied: aiosignal>=1.1.2 in /Users/jarod/Projects/ionic_examples/.venv/lib/python3.11/site-packages (from aiohttp<4.0.0,>=3.8.3->langchain) (1.3.1)\n",
      "Requirement already satisfied: attrs>=17.3.0 in /Users/jarod/Projects/ionic_examples/.venv/lib/python3.11/site-packages (from aiohttp<4.0.0,>=3.8.3->langchain) (23.2.0)\n",
      "Requirement already satisfied: frozenlist>=1.1.1 in /Users/jarod/Projects/ionic_examples/.venv/lib/python3.11/site-packages (from aiohttp<4.0.0,>=3.8.3->langchain) (1.4.1)\n",
      "Requirement already satisfied: multidict<7.0,>=4.5 in /Users/jarod/Projects/ionic_examples/.venv/lib/python3.11/site-packages (from aiohttp<4.0.0,>=3.8.3->langchain) (6.0.5)\n",
      "Requirement already satisfied: yarl<2.0,>=1.0 in /Users/jarod/Projects/ionic_examples/.venv/lib/python3.11/site-packages (from aiohttp<4.0.0,>=3.8.3->langchain) (1.9.4)\n",
      "Requirement already satisfied: idna>=2.8 in /Users/jarod/Projects/ionic_examples/.venv/lib/python3.11/site-packages (from anyio<5,>=3->langchain-core) (3.6)\n",
      "Requirement already satisfied: sniffio>=1.1 in /Users/jarod/Projects/ionic_examples/.venv/lib/python3.11/site-packages (from anyio<5,>=3->langchain-core) (1.3.0)\n",
      "Requirement already satisfied: marshmallow<4.0.0,>=3.18.0 in /Users/jarod/Projects/ionic_examples/.venv/lib/python3.11/site-packages (from dataclasses-json<0.7,>=0.5.7->langchain) (3.20.2)\n",
      "Requirement already satisfied: typing-inspect<1,>=0.4.0 in /Users/jarod/Projects/ionic_examples/.venv/lib/python3.11/site-packages (from dataclasses-json<0.7,>=0.5.7->langchain) (0.9.0)\n",
      "Requirement already satisfied: google-api-core!=2.0.*,!=2.1.*,!=2.2.*,!=2.3.*,!=2.4.*,!=2.5.*,!=2.6.*,!=2.7.*,<3.0.0dev,>=1.32.0 in /Users/jarod/Projects/ionic_examples/.venv/lib/python3.11/site-packages (from google-api-core[grpc]!=2.0.*,!=2.1.*,!=2.2.*,!=2.3.*,!=2.4.*,!=2.5.*,!=2.6.*,!=2.7.*,<3.0.0dev,>=1.32.0->google-cloud-aiplatform<2.0.0,>=1.39.0->langchain-google-vertexai) (2.16.2)\n",
      "Requirement already satisfied: proto-plus<2.0.0dev,>=1.22.0 in /Users/jarod/Projects/ionic_examples/.venv/lib/python3.11/site-packages (from google-cloud-aiplatform<2.0.0,>=1.39.0->langchain-google-vertexai) (1.23.0)\n",
      "Requirement already satisfied: protobuf!=3.20.0,!=3.20.1,!=4.21.0,!=4.21.1,!=4.21.2,!=4.21.3,!=4.21.4,!=4.21.5,<5.0.0dev,>=3.19.5 in /Users/jarod/Projects/ionic_examples/.venv/lib/python3.11/site-packages (from google-cloud-aiplatform<2.0.0,>=1.39.0->langchain-google-vertexai) (4.23.4)\n",
      "Requirement already satisfied: google-cloud-bigquery<4.0.0dev,>=1.15.0 in /Users/jarod/Projects/ionic_examples/.venv/lib/python3.11/site-packages (from google-cloud-aiplatform<2.0.0,>=1.39.0->langchain-google-vertexai) (3.17.2)\n",
      "Requirement already satisfied: google-cloud-resource-manager<3.0.0dev,>=1.3.3 in /Users/jarod/Projects/ionic_examples/.venv/lib/python3.11/site-packages (from google-cloud-aiplatform<2.0.0,>=1.39.0->langchain-google-vertexai) (1.12.1)\n",
      "Requirement already satisfied: shapely<3.0.0dev in /Users/jarod/Projects/ionic_examples/.venv/lib/python3.11/site-packages (from google-cloud-aiplatform<2.0.0,>=1.39.0->langchain-google-vertexai) (2.0.2)\n",
      "Requirement already satisfied: google-auth<3.0dev,>=2.23.3 in /Users/jarod/Projects/ionic_examples/.venv/lib/python3.11/site-packages (from google-cloud-storage<3.0.0,>=2.14.0->langchain-google-vertexai) (2.27.0)\n",
      "Requirement already satisfied: google-cloud-core<3.0dev,>=2.3.0 in /Users/jarod/Projects/ionic_examples/.venv/lib/python3.11/site-packages (from google-cloud-storage<3.0.0,>=2.14.0->langchain-google-vertexai) (2.4.1)\n",
      "Requirement already satisfied: google-resumable-media>=2.6.0 in /Users/jarod/Projects/ionic_examples/.venv/lib/python3.11/site-packages (from google-cloud-storage<3.0.0,>=2.14.0->langchain-google-vertexai) (2.7.0)\n",
      "Requirement already satisfied: google-crc32c<2.0dev,>=1.0 in /Users/jarod/Projects/ionic_examples/.venv/lib/python3.11/site-packages (from google-cloud-storage<3.0.0,>=2.14.0->langchain-google-vertexai) (1.5.0)\n",
      "Requirement already satisfied: jsonpointer>=1.9 in /Users/jarod/Projects/ionic_examples/.venv/lib/python3.11/site-packages (from jsonpatch<2.0,>=1.33->langchain) (2.4)\n",
      "Requirement already satisfied: typing-extensions>=4.2.0 in /Users/jarod/Projects/ionic_examples/.venv/lib/python3.11/site-packages (from pydantic<3,>=1->langchain) (4.9.0)\n",
      "Requirement already satisfied: charset-normalizer<4,>=2 in /Users/jarod/Projects/ionic_examples/.venv/lib/python3.11/site-packages (from requests<3,>=2->langchain) (3.3.2)\n",
      "Requirement already satisfied: urllib3<3,>=1.21.1 in /Users/jarod/Projects/ionic_examples/.venv/lib/python3.11/site-packages (from requests<3,>=2->langchain) (2.2.0)\n",
      "Requirement already satisfied: certifi>=2017.4.17 in /Users/jarod/Projects/ionic_examples/.venv/lib/python3.11/site-packages (from requests<3,>=2->langchain) (2024.2.2)\n",
      "Requirement already satisfied: googleapis-common-protos<2.0.dev0,>=1.56.2 in /Users/jarod/Projects/ionic_examples/.venv/lib/python3.11/site-packages (from google-api-core!=2.0.*,!=2.1.*,!=2.2.*,!=2.3.*,!=2.4.*,!=2.5.*,!=2.6.*,!=2.7.*,<3.0.0dev,>=1.32.0->google-api-core[grpc]!=2.0.*,!=2.1.*,!=2.2.*,!=2.3.*,!=2.4.*,!=2.5.*,!=2.6.*,!=2.7.*,<3.0.0dev,>=1.32.0->google-cloud-aiplatform<2.0.0,>=1.39.0->langchain-google-vertexai) (1.62.0)\n",
      "Requirement already satisfied: grpcio<2.0dev,>=1.33.2 in /Users/jarod/Projects/ionic_examples/.venv/lib/python3.11/site-packages (from google-api-core[grpc]!=2.0.*,!=2.1.*,!=2.2.*,!=2.3.*,!=2.4.*,!=2.5.*,!=2.6.*,!=2.7.*,<3.0.0dev,>=1.32.0->google-cloud-aiplatform<2.0.0,>=1.39.0->langchain-google-vertexai) (1.60.1)\n",
      "Requirement already satisfied: grpcio-status<2.0.dev0,>=1.33.2 in /Users/jarod/Projects/ionic_examples/.venv/lib/python3.11/site-packages (from google-api-core[grpc]!=2.0.*,!=2.1.*,!=2.2.*,!=2.3.*,!=2.4.*,!=2.5.*,!=2.6.*,!=2.7.*,<3.0.0dev,>=1.32.0->google-cloud-aiplatform<2.0.0,>=1.39.0->langchain-google-vertexai) (1.60.1)\n",
      "Requirement already satisfied: cachetools<6.0,>=2.0.0 in /Users/jarod/Projects/ionic_examples/.venv/lib/python3.11/site-packages (from google-auth<3.0dev,>=2.23.3->google-cloud-storage<3.0.0,>=2.14.0->langchain-google-vertexai) (5.3.2)\n",
      "Requirement already satisfied: pyasn1-modules>=0.2.1 in /Users/jarod/Projects/ionic_examples/.venv/lib/python3.11/site-packages (from google-auth<3.0dev,>=2.23.3->google-cloud-storage<3.0.0,>=2.14.0->langchain-google-vertexai) (0.3.0)\n",
      "Requirement already satisfied: rsa<5,>=3.1.4 in /Users/jarod/Projects/ionic_examples/.venv/lib/python3.11/site-packages (from google-auth<3.0dev,>=2.23.3->google-cloud-storage<3.0.0,>=2.14.0->langchain-google-vertexai) (4.9)\n",
      "Requirement already satisfied: python-dateutil<3.0dev,>=2.7.2 in /Users/jarod/Projects/ionic_examples/.venv/lib/python3.11/site-packages (from google-cloud-bigquery<4.0.0dev,>=1.15.0->google-cloud-aiplatform<2.0.0,>=1.39.0->langchain-google-vertexai) (2.8.2)\n",
      "Requirement already satisfied: grpc-google-iam-v1<1.0.0dev,>=0.12.4 in /Users/jarod/Projects/ionic_examples/.venv/lib/python3.11/site-packages (from google-cloud-resource-manager<3.0.0dev,>=1.3.3->google-cloud-aiplatform<2.0.0,>=1.39.0->langchain-google-vertexai) (0.13.0)\n",
      "Requirement already satisfied: mypy-extensions>=0.3.0 in /Users/jarod/Projects/ionic_examples/.venv/lib/python3.11/site-packages (from typing-inspect<1,>=0.4.0->dataclasses-json<0.7,>=0.5.7->langchain) (1.0.0)\n",
      "Requirement already satisfied: pyasn1<0.6.0,>=0.4.6 in /Users/jarod/Projects/ionic_examples/.venv/lib/python3.11/site-packages (from pyasn1-modules>=0.2.1->google-auth<3.0dev,>=2.23.3->google-cloud-storage<3.0.0,>=2.14.0->langchain-google-vertexai) (0.5.1)\n",
      "Requirement already satisfied: six>=1.5 in /Users/jarod/Projects/ionic_examples/.venv/lib/python3.11/site-packages (from python-dateutil<3.0dev,>=2.7.2->google-cloud-bigquery<4.0.0dev,>=1.15.0->google-cloud-aiplatform<2.0.0,>=1.39.0->langchain-google-vertexai) (1.16.0)\n",
      "Requirement already satisfied: ionic-langchain in /Users/jarod/Projects/ionic_examples/.venv/lib/python3.11/site-packages (0.2.3)\n",
      "Requirement already satisfied: ionic-api-sdk<0.8.0,>=0.7.0 in /Users/jarod/Projects/ionic_examples/.venv/lib/python3.11/site-packages (from ionic-langchain) (0.7.1)\n",
      "Requirement already satisfied: langchain<0.2.0,>=0.1.0 in /Users/jarod/Projects/ionic_examples/.venv/lib/python3.11/site-packages (from ionic-langchain) (0.1.5)\n",
      "Requirement already satisfied: pytest<8.0.0,>=7.4.4 in /Users/jarod/Projects/ionic_examples/.venv/lib/python3.11/site-packages (from ionic-langchain) (7.4.4)\n",
      "Requirement already satisfied: certifi>=2023.7.22 in /Users/jarod/Projects/ionic_examples/.venv/lib/python3.11/site-packages (from ionic-api-sdk<0.8.0,>=0.7.0->ionic-langchain) (2024.2.2)\n",
      "Requirement already satisfied: charset-normalizer>=3.2.0 in /Users/jarod/Projects/ionic_examples/.venv/lib/python3.11/site-packages (from ionic-api-sdk<0.8.0,>=0.7.0->ionic-langchain) (3.3.2)\n",
      "Requirement already satisfied: dataclasses-json>=0.6.1 in /Users/jarod/Projects/ionic_examples/.venv/lib/python3.11/site-packages (from ionic-api-sdk<0.8.0,>=0.7.0->ionic-langchain) (0.6.4)\n",
      "Requirement already satisfied: idna>=3.4 in /Users/jarod/Projects/ionic_examples/.venv/lib/python3.11/site-packages (from ionic-api-sdk<0.8.0,>=0.7.0->ionic-langchain) (3.6)\n",
      "Requirement already satisfied: jsonpath-python>=1.0.6 in /Users/jarod/Projects/ionic_examples/.venv/lib/python3.11/site-packages (from ionic-api-sdk<0.8.0,>=0.7.0->ionic-langchain) (1.0.6)\n",
      "Requirement already satisfied: marshmallow>=3.19.0 in /Users/jarod/Projects/ionic_examples/.venv/lib/python3.11/site-packages (from ionic-api-sdk<0.8.0,>=0.7.0->ionic-langchain) (3.20.2)\n",
      "Requirement already satisfied: mypy-extensions>=1.0.0 in /Users/jarod/Projects/ionic_examples/.venv/lib/python3.11/site-packages (from ionic-api-sdk<0.8.0,>=0.7.0->ionic-langchain) (1.0.0)\n",
      "Requirement already satisfied: packaging>=23.1 in /Users/jarod/Projects/ionic_examples/.venv/lib/python3.11/site-packages (from ionic-api-sdk<0.8.0,>=0.7.0->ionic-langchain) (23.2)\n",
      "Requirement already satisfied: python-dateutil>=2.8.2 in /Users/jarod/Projects/ionic_examples/.venv/lib/python3.11/site-packages (from ionic-api-sdk<0.8.0,>=0.7.0->ionic-langchain) (2.8.2)\n",
      "Requirement already satisfied: requests>=2.31.0 in /Users/jarod/Projects/ionic_examples/.venv/lib/python3.11/site-packages (from ionic-api-sdk<0.8.0,>=0.7.0->ionic-langchain) (2.31.0)\n",
      "Requirement already satisfied: six>=1.16.0 in /Users/jarod/Projects/ionic_examples/.venv/lib/python3.11/site-packages (from ionic-api-sdk<0.8.0,>=0.7.0->ionic-langchain) (1.16.0)\n",
      "Requirement already satisfied: typing-inspect>=0.9.0 in /Users/jarod/Projects/ionic_examples/.venv/lib/python3.11/site-packages (from ionic-api-sdk<0.8.0,>=0.7.0->ionic-langchain) (0.9.0)\n",
      "Requirement already satisfied: typing-extensions>=4.7.1 in /Users/jarod/Projects/ionic_examples/.venv/lib/python3.11/site-packages (from ionic-api-sdk<0.8.0,>=0.7.0->ionic-langchain) (4.9.0)\n",
      "Requirement already satisfied: urllib3>=1.26.18 in /Users/jarod/Projects/ionic_examples/.venv/lib/python3.11/site-packages (from ionic-api-sdk<0.8.0,>=0.7.0->ionic-langchain) (2.2.0)\n",
      "Requirement already satisfied: PyYAML>=5.3 in /Users/jarod/Projects/ionic_examples/.venv/lib/python3.11/site-packages (from langchain<0.2.0,>=0.1.0->ionic-langchain) (6.0.1)\n",
      "Requirement already satisfied: SQLAlchemy<3,>=1.4 in /Users/jarod/Projects/ionic_examples/.venv/lib/python3.11/site-packages (from langchain<0.2.0,>=0.1.0->ionic-langchain) (2.0.25)\n",
      "Requirement already satisfied: aiohttp<4.0.0,>=3.8.3 in /Users/jarod/Projects/ionic_examples/.venv/lib/python3.11/site-packages (from langchain<0.2.0,>=0.1.0->ionic-langchain) (3.9.3)\n",
      "Requirement already satisfied: jsonpatch<2.0,>=1.33 in /Users/jarod/Projects/ionic_examples/.venv/lib/python3.11/site-packages (from langchain<0.2.0,>=0.1.0->ionic-langchain) (1.33)\n",
      "Requirement already satisfied: langchain-community<0.1,>=0.0.17 in /Users/jarod/Projects/ionic_examples/.venv/lib/python3.11/site-packages (from langchain<0.2.0,>=0.1.0->ionic-langchain) (0.0.18)\n",
      "Requirement already satisfied: langchain-core<0.2,>=0.1.16 in /Users/jarod/Projects/ionic_examples/.venv/lib/python3.11/site-packages (from langchain<0.2.0,>=0.1.0->ionic-langchain) (0.1.20)\n",
      "Requirement already satisfied: langsmith<0.1,>=0.0.83 in /Users/jarod/Projects/ionic_examples/.venv/lib/python3.11/site-packages (from langchain<0.2.0,>=0.1.0->ionic-langchain) (0.0.87)\n",
      "Requirement already satisfied: numpy<2,>=1 in /Users/jarod/Projects/ionic_examples/.venv/lib/python3.11/site-packages (from langchain<0.2.0,>=0.1.0->ionic-langchain) (1.26.4)\n",
      "Requirement already satisfied: pydantic<3,>=1 in /Users/jarod/Projects/ionic_examples/.venv/lib/python3.11/site-packages (from langchain<0.2.0,>=0.1.0->ionic-langchain) (1.10.14)\n",
      "Requirement already satisfied: tenacity<9.0.0,>=8.1.0 in /Users/jarod/Projects/ionic_examples/.venv/lib/python3.11/site-packages (from langchain<0.2.0,>=0.1.0->ionic-langchain) (8.2.3)\n",
      "Requirement already satisfied: iniconfig in /Users/jarod/Projects/ionic_examples/.venv/lib/python3.11/site-packages (from pytest<8.0.0,>=7.4.4->ionic-langchain) (2.0.0)\n",
      "Requirement already satisfied: pluggy<2.0,>=0.12 in /Users/jarod/Projects/ionic_examples/.venv/lib/python3.11/site-packages (from pytest<8.0.0,>=7.4.4->ionic-langchain) (1.4.0)\n",
      "Requirement already satisfied: aiosignal>=1.1.2 in /Users/jarod/Projects/ionic_examples/.venv/lib/python3.11/site-packages (from aiohttp<4.0.0,>=3.8.3->langchain<0.2.0,>=0.1.0->ionic-langchain) (1.3.1)\n",
      "Requirement already satisfied: attrs>=17.3.0 in /Users/jarod/Projects/ionic_examples/.venv/lib/python3.11/site-packages (from aiohttp<4.0.0,>=3.8.3->langchain<0.2.0,>=0.1.0->ionic-langchain) (23.2.0)\n",
      "Requirement already satisfied: frozenlist>=1.1.1 in /Users/jarod/Projects/ionic_examples/.venv/lib/python3.11/site-packages (from aiohttp<4.0.0,>=3.8.3->langchain<0.2.0,>=0.1.0->ionic-langchain) (1.4.1)\n",
      "Requirement already satisfied: multidict<7.0,>=4.5 in /Users/jarod/Projects/ionic_examples/.venv/lib/python3.11/site-packages (from aiohttp<4.0.0,>=3.8.3->langchain<0.2.0,>=0.1.0->ionic-langchain) (6.0.5)\n",
      "Requirement already satisfied: yarl<2.0,>=1.0 in /Users/jarod/Projects/ionic_examples/.venv/lib/python3.11/site-packages (from aiohttp<4.0.0,>=3.8.3->langchain<0.2.0,>=0.1.0->ionic-langchain) (1.9.4)\n",
      "Requirement already satisfied: jsonpointer>=1.9 in /Users/jarod/Projects/ionic_examples/.venv/lib/python3.11/site-packages (from jsonpatch<2.0,>=1.33->langchain<0.2.0,>=0.1.0->ionic-langchain) (2.4)\n",
      "Requirement already satisfied: anyio<5,>=3 in /Users/jarod/Projects/ionic_examples/.venv/lib/python3.11/site-packages (from langchain-core<0.2,>=0.1.16->langchain<0.2.0,>=0.1.0->ionic-langchain) (4.2.0)\n",
      "Requirement already satisfied: sniffio>=1.1 in /Users/jarod/Projects/ionic_examples/.venv/lib/python3.11/site-packages (from anyio<5,>=3->langchain-core<0.2,>=0.1.16->langchain<0.2.0,>=0.1.0->ionic-langchain) (1.3.0)\n"
     ]
    }
   ],
   "source": [
    "%%bash\n",
    "\n",
    "pip install --upgrade pip\n",
    "pip install langchain langchain-core langchain-google-vertexai langchainhub\n",
    "pip install ionic-langchain"
   ]
  },
  {
   "cell_type": "markdown",
   "id": "b2801d1a76eff0a3",
   "metadata": {
    "collapsed": false,
    "jupyter": {
     "outputs_hidden": false
    }
   },
   "source": [
    "### Setup Google Auth Key\n",
    "To use Google's Vertex AI, you will need to [create a Google Cloud project](https://developers.google.com/workspace/guides/create-project), enable billing, and then enable the Vertex AI API.\n",
    "\n",
    "When you have a project and Vertex enabled, configure your Google Cloud credentials by running the following command in your terminal:\n",
    "\n",
    "```bash\n",
    "gcloud auth application-default login\n",
    "```\n",
    "\n",
    "This will open a browser window asking you to log in to your Google account and grant permissions to the gcloud command-line tool. After you've done this, you should see a message in your terminal saying that you are now authenticated."
   ]
  },
  {
   "cell_type": "markdown",
   "id": "566de0660cd33a31",
   "metadata": {
    "collapsed": false,
    "jupyter": {
     "outputs_hidden": false
    }
   },
   "source": [
    "### Create your Agent with the Ionic Commerce Tool"
   ]
  },
  {
   "cell_type": "code",
   "execution_count": 2,
   "id": "a92fbdb3407a0405",
   "metadata": {
    "ExecuteTime": {
     "end_time": "2024-02-07T22:43:15.553278Z",
     "start_time": "2024-02-07T22:43:14.792765Z"
    },
    "collapsed": false,
    "jupyter": {
     "outputs_hidden": false
    }
   },
   "outputs": [],
   "source": [
    "from ionic_langchain.tool import Ionic, IonicTool\n",
    "from langchain import hub\n",
    "from langchain.agents import AgentExecutor, Tool, create_react_agent\n",
    "from langchain_google_vertexai import VertexAI\n",
    "\n",
    "# Based on ReAct Agent\n",
    "# https://python.langchain.com/docs/modules/agents/agent_types/react\n",
    "# Please reach out to support@ionicapi.com for help with add'l agent types.\n",
    "\n",
    "model = \"gemini-pro\"\n",
    "llm = model = VertexAI(model_name=model, )\n",
    "\n",
    "ionic_tool = IonicTool().tool()\n",
    "\n",
    "# The tool comes with its own prompt,\n",
    "# but you may also update it directly via the description attribute:\n",
    "ionic_tool.description = str(\n",
    "    \"\"\"\n",
    "Ionic is an e-commerce shopping tool. Assistant uses the Ionic Commerce Shopping Tool to find, discover, and compare products from thousands of online retailers. Assistant should use the tool when the user is looking for a product recommendation or trying to find a specific product.\n",
    "\n",
    "The user may specify the number of results, minimum price, and maximum price for which they want to see results.\n",
    "Ionic Tool input is a comma-separated string of values:\n",
    "  - query string (required, must not include commas)\n",
    "  - number of results (default to 4, no more than 10)\n",
    "  - minimum price in cents ($5 becomes 500)\n",
    "  - maximum price in cents\n",
    "For example, if looking for coffee beans between 5 and 10 dollars, the tool input would be `coffee beans, 5, 500, 1000`.\n",
    "\n",
    "Return them as a markdown formatted list with each recommendation from tool results, being sure to include the full PDP URL. For example:\n",
    "\n",
    "1. Product 1: [Price] -- link\n",
    "2. Product 2: [Price] -- link\n",
    "3. Product 3: [Price] -- link\n",
    "4. Product 4: [Price] -- link\n",
    "\"\"\"\n",
    ")\n",
    "\n",
    "tools = [ionic_tool]\n",
    "\n",
    "# default prompt for create_react_agent\n",
    "prompt = hub.pull(\"hwchase17/react\")\n",
    "\n",
    "agent = create_react_agent(\n",
    "    llm,\n",
    "    tools,\n",
    "    prompt=prompt,\n",
    ")\n",
    "\n",
    "agent_executor = AgentExecutor(\n",
    "    agent=agent, tools=tools, handle_parsing_errors=True, verbose=True, max_iterations=5\n",
    ")"
   ]
  },
  {
   "cell_type": "markdown",
   "id": "3a39c5fe7048450f",
   "metadata": {
    "collapsed": false,
    "jupyter": {
     "outputs_hidden": false
    }
   },
   "source": [
    "### Run the Agent"
   ]
  },
  {
   "cell_type": "code",
   "execution_count": 3,
   "id": "9ea89c9f15aafc12",
   "metadata": {
    "ExecuteTime": {
     "end_time": "2024-02-07T22:44:58.829941Z",
     "start_time": "2024-02-07T22:44:51.304432Z"
    },
    "collapsed": false,
    "jupyter": {
     "outputs_hidden": false
    }
   },
   "outputs": [
    {
     "name": "stdout",
     "output_type": "stream",
     "text": [
      "\n",
      "\n",
      "\u001b[1m> Entering new AgentExecutor chain...\u001b[0m\n",
      "\u001b[32;1m\u001b[1;3mI can use the Ionic Commerce Shopping Tool to find products related to this query.\n",
      "Action: ionic_commerce_shopping_tool\n",
      "Action Input: 4K Monitor, 4, 10000, 60000\u001b[0m\u001b[36;1m\u001b[1;3m[{'products': [{'links': [{'text': 'Details', 'type': 'pdp', 'url': 'https://brwi.short.gy/ldDEuQ'}], 'merchant_name': 'Walmart', 'merchant_product_id': '5085494806', 'name': 'KOORUI 27 inch IPS Computer Monitor,4K UHD,HDR10,90% DCI-P3,Adpitive-sync,Dp1.4&HDMI2.0 Ports,N07', 'price': '$189.88', 'status': 'available', 'thumbnail': 'https://i5.walmartimages.com/asr/a79af0d8-6338-41c2-99fc-a7a5f7c7933e.70b004740dda930dd21f79415869250f.jpeg?odnHeight=100&odnWidth=100&odnBg=ffffff', 'brand_name': 'KOORUI', 'upc': '679262965879'}, {'links': [{'text': 'Details', 'type': 'pdp', 'url': 'https://www.amazon.com/dp/B098HQ8YRX?tag=ioniccommer00-20&linkCode=osi&th=1&psc=1'}], 'merchant_name': 'Amazon', 'merchant_product_id': 'B098HQ8YRX', 'name': 'Sceptre 4K IPS 27\" 3840 x 2160 UHD Monitor up to 70Hz DisplayPort HDMI 99% sRGB Build-in Speakers, Black 2021 (U275W-UPT)', 'price': '$169.97', 'status': 'available', 'thumbnail': 'https://m.media-amazon.com/images/I/41URcXrndAL._SL160_.jpg', 'brand_name': 'SCEPTRE', 'upc': None}, {'links': [{'text': 'Details', 'type': 'pdp', 'url': 'https://brwi.short.gy/HFpqjN'}], 'merchant_name': 'Anker', 'merchant_product_id': 'product_12521_A83150A1', 'name': 'PowerExpand USB-C to DisplayPort Adapter Default Title', 'price': '$19.99', 'status': 'available', 'thumbnail': 'https://cdn.shopify.com/s/files/1/0493/9834/9974/products/1_e96a854c-8a8d-44ef-a373-edb77c57c3bd.jpg?v=1614697073', 'brand_name': 'Anker', 'upc': ''}, {'links': [{'text': 'Details', 'type': 'pdp', 'url': 'https://www.amazon.com/dp/B07CS3JGPC?tag=ioniccommer00-20&linkCode=osi&th=1&psc=1'}], 'merchant_name': 'Amazon', 'merchant_product_id': 'B07CS3JGPC', 'name': 'SAMSUNG UJ59 Series 32-Inch 4K UHD (3840x2160) Computer Monitor, HDMI, Display Port, Eye Saver/Flicker Free Mode, FreeSync (LU32J590UQNXZA),Black', 'price': '$279.99', 'status': 'available', 'thumbnail': 'https://m.media-amazon.com/images/I/41GAyJn9DDL._SL160_.jpg', 'brand_name': 'Samsung', 'upc': None}], 'query': {'query': '4K Monitor', 'max_price': 60000, 'min_price': 10000, 'num_results': 4}}]\u001b[0m\u001b[32;1m\u001b[1;3mThe tool has returned some results.\n",
      "Final Answer: 1. KOORUI 27 inch IPS Computer Monitor: $189.88 -- https://brwi.short.gy/ldDEuQ \n",
      "2. Sceptre 4K IPS 27\" 3840 x 2160 UHD Monitor: $169.97 -- https://www.amazon.com/dp/B098HQ8YRX?tag=ioniccommer00-20&linkCode=osi&th=1&psc=1\n",
      "3. PowerExpand USB-C to DisplayPort Adapter: $19.99 -- https://brwi.short.gy/HFpqjN\n",
      "4. SAMSUNG UJ59 Series 32-Inch 4K UHD (3840x2160) Computer Monitor: $279.99 -- https://www.amazon.com/dp/B07CS3JGPC?tag=ioniccommer00-20&linkCode=osi&th=1&psc=1\u001b[0m\n",
      "\n",
      "\u001b[1m> Finished chain.\u001b[0m\n"
     ]
    },
    {
     "data": {
      "text/plain": [
       "{'input': \"I'm looking for a 4K Monitor\",\n",
       " 'output': '1. KOORUI 27 inch IPS Computer Monitor: $189.88 -- https://brwi.short.gy/ldDEuQ \\n2. Sceptre 4K IPS 27\" 3840 x 2160 UHD Monitor: $169.97 -- https://www.amazon.com/dp/B098HQ8YRX?tag=ioniccommer00-20&linkCode=osi&th=1&psc=1\\n3. PowerExpand USB-C to DisplayPort Adapter: $19.99 -- https://brwi.short.gy/HFpqjN\\n4. SAMSUNG UJ59 Series 32-Inch 4K UHD (3840x2160) Computer Monitor: $279.99 -- https://www.amazon.com/dp/B07CS3JGPC?tag=ioniccommer00-20&linkCode=osi&th=1&psc=1'}"
      ]
     },
     "execution_count": 3,
     "metadata": {},
     "output_type": "execute_result"
    }
   ],
   "source": [
    "input = (\n",
    "    \"I'm looking for a 4K Monitor\"\n",
    ")\n",
    "agent_executor.invoke({\"input\": input})"
   ]
  },
  {
   "cell_type": "code",
   "execution_count": null,
   "id": "a8e7b27c-49fe-4aaf-b61e-beb90a4d1b69",
   "metadata": {},
   "outputs": [],
   "source": []
  }
 ],
 "metadata": {
  "kernelspec": {
   "display_name": "Python 3 (ipykernel)",
   "language": "python",
   "name": "python3"
  },
  "language_info": {
   "codemirror_mode": {
    "name": "ipython",
    "version": 3
   },
   "file_extension": ".py",
   "mimetype": "text/x-python",
   "name": "python",
   "nbconvert_exporter": "python",
   "pygments_lexer": "ipython3",
   "version": "3.11.5"
  }
 },
 "nbformat": 4,
 "nbformat_minor": 5
}
