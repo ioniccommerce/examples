{
 "cells": [
  {
   "cell_type": "markdown",
   "source": [
    "# Ionic with LangChain's ChatGoogleGenerativeAI agent and Gemini Pro model\n",
    "\n",
    "[![Open In Colab](https://colab.research.google.com/assets/colab-badge.svg)](https://colab.research.google.com/github/ioniccommerce/examples/blob/main/examples/notebooks/langchain_react_agent_gemini.ipynb)"
   ],
   "metadata": {
    "collapsed": false
   },
   "id": "7dfef8b73bf75987"
  },
  {
   "cell_type": "markdown",
   "source": [
    "### Install dependencies"
   ],
   "metadata": {
    "collapsed": false
   },
   "id": "8ef36e9cd0b261cb"
  },
  {
   "cell_type": "code",
   "outputs": [],
   "source": [
    "%%bash\n",
    "\n",
    "pip install --upgrade pip\n",
    "pip install langchain langchain-core langchain-google-vertexai langchainhub\n",
    "pip install ionic-langchain"
   ],
   "metadata": {
    "collapsed": false
   },
   "id": "10910b7361beb918",
   "execution_count": null
  },
  {
   "cell_type": "markdown",
   "source": [
    "### Setup Google Auth Key\n",
    "To use Google's Vertex AI, you will need to [create a Google Cloud project](https://developers.google.com/workspace/guides/create-project), enable billing, and then enable the Vertex AI API.\n",
    "\n",
    "When you have a project and Vertex enabled, configure your Google Cloud credentials by running the following command in your terminal:\n",
    "\n",
    "```bash\n",
    "gcloud auth application-default login\n",
    "```\n",
    "\n",
    "This will open a browser window asking you to log in to your Google account and grant permissions to the gcloud command-line tool. After you've done this, you should see a message in your terminal saying that you are now authenticated."
   ],
   "metadata": {
    "collapsed": false
   },
   "id": "b2801d1a76eff0a3"
  },
  {
   "cell_type": "markdown",
   "source": [
    "### Create your Agent with the Ionic Commerce Tool"
   ],
   "metadata": {
    "collapsed": false
   },
   "id": "566de0660cd33a31"
  },
  {
   "cell_type": "code",
   "outputs": [],
   "source": [
    "from ionic_langchain.tool import Ionic, IonicTool\n",
    "from langchain import hub\n",
    "from langchain.agents import AgentExecutor, Tool, create_react_agent\n",
    "from langchain_google_vertexai import VertexAI\n",
    "\n",
    "# Based on ReAct Agent\n",
    "# https://python.langchain.com/docs/modules/agents/agent_types/react\n",
    "# Please reach out to support@ionicapi.com for help with add'l agent types.\n",
    "\n",
    "model = \"gemini-pro\"\n",
    "llm = model = VertexAI(model_name=model, )\n",
    "\n",
    "ionic_tool = IonicTool().tool()\n",
    "\n",
    "# The tool comes with its own prompt,\n",
    "# but you may also update it directly via the description attribute:\n",
    "ionic_tool.description = str(\n",
    "    \"\"\"\n",
    "Ionic is an e-commerce shopping tool. Assistant uses the Ionic Commerce Shopping Tool to find, discover, and compare products from thousands of online retailers. Assistant should use the tool when the user is looking for a product recommendation or trying to find a specific product.\n",
    "\n",
    "The user may specify the number of results, minimum price, and maximum price for which they want to see results.\n",
    "Ionic Tool input is a comma-separated string of values:\n",
    "  - query string (required, must not include commas)\n",
    "  - number of results (default to 4, no more than 10)\n",
    "  - minimum price in cents ($5 becomes 500)\n",
    "  - maximum price in cents\n",
    "For example, if looking for coffee beans between 5 and 10 dollars, the tool input would be `coffee beans, 5, 500, 1000`.\n",
    "\n",
    "Return them as a markdown formatted list with each recommendation from tool results, being sure to include the full PDP URL. For example:\n",
    "\n",
    "1. Product 1: [Price] -- link\n",
    "2. Product 2: [Price] -- link\n",
    "3. Product 3: [Price] -- link\n",
    "4. Product 4: [Price] -- link\n",
    "\"\"\"\n",
    ")\n",
    "\n",
    "tools = [ionic_tool]\n",
    "\n",
    "# default prompt for create_react_agent\n",
    "prompt = hub.pull(\"hwchase17/react\")\n",
    "\n",
    "agent = create_react_agent(\n",
    "    llm,\n",
    "    tools,\n",
    "    prompt=prompt,\n",
    ")\n",
    "\n",
    "agent_executor = AgentExecutor(\n",
    "    agent=agent, tools=tools, handle_parsing_errors=True, verbose=True, max_iterations=5\n",
    ")"
   ],
   "metadata": {
    "collapsed": false,
    "ExecuteTime": {
     "end_time": "2024-02-07T22:43:15.553278Z",
     "start_time": "2024-02-07T22:43:14.792765Z"
    }
   },
   "id": "a92fbdb3407a0405",
   "execution_count": 12
  },
  {
   "cell_type": "markdown",
   "source": [
    "### Run the Agent"
   ],
   "metadata": {
    "collapsed": false
   },
   "id": "3a39c5fe7048450f"
  },
  {
   "cell_type": "code",
   "outputs": [
    {
     "name": "stdout",
     "output_type": "stream",
     "text": [
      "\n",
      "\n",
      "\u001B[1m> Entering new AgentExecutor chain...\u001B[0m\n",
      "\u001B[32;1m\u001B[1;3mAssistant should use the Ionic Commerce Shopping Tool to find 4K Monitors.\n",
      "Action: ionic_commerce_shopping_tool\n",
      "Action Input: 4k monitor, 4, 20000, 100000\u001B[0m\u001B[36;1m\u001B[1;3m[{'products': [{'links': [{'text': 'Details', 'type': 'pdp', 'url': 'https://brwi.short.gy/ftvaKh'}], 'merchant_name': 'Walmart', 'merchant_product_id': '135427918', 'name': 'SAMSUNG 32\" Class ViewFinity Curved Wide Screen 4K UHD (3840 x 2160) Monitor- LU32R590CWNXZA', 'price': '$449.99', 'status': 'available', 'thumbnail': 'https://i5.walmartimages.com/asr/101eea42-64af-414c-9959-ca84d47a3dd8.d758651afab97e2cfc2c35c1d3299f92.jpeg?odnHeight=100&odnWidth=100&odnBg=ffffff', 'brand_name': 'Samsung', 'upc': '887276301075'}, {'links': [{'text': 'Details', 'type': 'pdp', 'url': 'https://brwi.short.gy/HFpqjN'}], 'merchant_name': 'Anker', 'merchant_product_id': 'product_12521_A83150A1', 'name': 'PowerExpand USB-C to DisplayPort Adapter Default Title', 'price': '$19.99', 'status': 'available', 'thumbnail': 'https://cdn.shopify.com/s/files/1/0493/9834/9974/products/1_e96a854c-8a8d-44ef-a373-edb77c57c3bd.jpg?v=1614697073', 'brand_name': 'Anker', 'upc': ''}, {'links': [{'text': 'Details', 'type': 'pdp', 'url': 'https://www.amazon.com/dp/B07CS3JGPC?tag=ioniccommer00-20&linkCode=osi&th=1&psc=1'}], 'merchant_name': 'Amazon', 'merchant_product_id': 'B07CS3JGPC', 'name': 'SAMSUNG UJ59 Series 32-Inch 4K UHD (3840x2160) Computer Monitor, HDMI, Display Port, Eye Saver/Flicker Free Mode, FreeSync (LU32J590UQNXZA),Black', 'price': '$279.99', 'status': 'available', 'thumbnail': 'https://m.media-amazon.com/images/I/41GAyJn9DDL._SL160_.jpg', 'brand_name': 'Samsung', 'upc': None}, {'links': [{'text': 'Details', 'type': 'pdp', 'url': 'https://www.amazon.com/dp/B084V9CJB1?tag=ioniccommer00-20&linkCode=osi&th=1&psc=1'}], 'merchant_name': 'Amazon', 'merchant_product_id': 'B084V9CJB1', 'name': 'SAMSUNG 28-Inch ViewFinity UR55 Series 4K UHD IPS Computer Monitor, HDR10, AMD FreeSync, HDMI 2.0 and DisplayPort 1.2, Bezelless Display, Eye Care, LU28R550UQNXZA, 2023', 'price': '$249.99', 'status': 'available', 'thumbnail': 'https://m.media-amazon.com/images/I/41etykq-WqL._SL160_.jpg', 'brand_name': 'SAMSUNG', 'upc': None}], 'query': {'query': '4k monitor', 'max_price': 100000, 'min_price': 20000, 'num_results': 4}}]\u001B[0m\u001B[32;1m\u001B[1;3mI now know the final answer\n",
      "Final Answer: 1. SAMSUNG 32\" Class ViewFinity Curved Wide Screen 4K UHD Monitor: $449.99 -- https://brwi.short.gy/ftvaKh\n",
      "2. PowerExpand USB-C to DisplayPort Adapter: $19.99 -- https://brwi.short.gy/HFpqjN\n",
      "3. SAMSUNG UJ59 Series 32-Inch 4K UHD Computer Monitor: $279.99 -- https://www.amazon.com/dp/B07CS3JGPC?tag=ioniccommer00-20&linkCode=osi&th=1&psc=1\n",
      "4. SAMSUNG 28-Inch ViewFinity UR55 Series 4K UHD IPS Computer Monitor: $249.99 -- https://www.amazon.com/dp/B084V9CJB1?tag=ioniccommer00-20&linkCode=osi&th=1&psc=1\u001B[0m\n",
      "\n",
      "\u001B[1m> Finished chain.\u001B[0m\n"
     ]
    },
    {
     "data": {
      "text/plain": "{'input': \"I'm looking for a 4K Monitor\",\n 'output': '1. SAMSUNG 32\" Class ViewFinity Curved Wide Screen 4K UHD Monitor: $449.99 -- https://brwi.short.gy/ftvaKh\\n2. PowerExpand USB-C to DisplayPort Adapter: $19.99 -- https://brwi.short.gy/HFpqjN\\n3. SAMSUNG UJ59 Series 32-Inch 4K UHD Computer Monitor: $279.99 -- https://www.amazon.com/dp/B07CS3JGPC?tag=ioniccommer00-20&linkCode=osi&th=1&psc=1\\n4. SAMSUNG 28-Inch ViewFinity UR55 Series 4K UHD IPS Computer Monitor: $249.99 -- https://www.amazon.com/dp/B084V9CJB1?tag=ioniccommer00-20&linkCode=osi&th=1&psc=1'}"
     },
     "execution_count": 14,
     "metadata": {},
     "output_type": "execute_result"
    }
   ],
   "source": [
    "input = (\n",
    "    \"I'm looking for a 4K Monitor\"\n",
    ")\n",
    "agent_executor.invoke({\"input\": input})"
   ],
   "metadata": {
    "collapsed": false,
    "ExecuteTime": {
     "end_time": "2024-02-07T22:44:58.829941Z",
     "start_time": "2024-02-07T22:44:51.304432Z"
    }
   },
   "id": "9ea89c9f15aafc12",
   "execution_count": 14
  }
 ],
 "metadata": {
  "kernelspec": {
   "display_name": "Python 3",
   "language": "python",
   "name": "python3"
  },
  "language_info": {
   "codemirror_mode": {
    "name": "ipython",
    "version": 2
   },
   "file_extension": ".py",
   "mimetype": "text/x-python",
   "name": "python",
   "nbconvert_exporter": "python",
   "pygments_lexer": "ipython2",
   "version": "2.7.6"
  }
 },
 "nbformat": 4,
 "nbformat_minor": 5
}
