{
 "cells": [
  {
   "cell_type": "markdown",
   "source": [
    "# Ionic using Llama OpenAI Example\n",
    "\n",
    "[![Open In Colab](https://colab.research.google.com/assets/colab-badge.svg)](https://colab.research.google.com/github/ioniccommerce/examples/blob/main/examples/notebooks/llama_openai.ipynb)\n",
    "\n",
    "[Ionic](https://www.ioniccommerce.com/) is a plug and play ecommerce marketplace for AI Assistants. By using Ionic, you are effortlessly providing your users with the ability to shop and transact directly within your agent, and you'll get a cut of the transaction.\n",
    "\n",
    "This is a basic jupyter notebook demonstrating how to integrate the Ionic Shopping Tool. For more information on setting up your Agent with Ionic, see the Ionic [documentation](https://docs.ioniccommerce.com/introduction).\n",
    "\n",
    "This Jupyter Notebook demonstrates how to use the Ionic tool with an Agent.\n",
    "\n",
    "---\n",
    "\n",
    "## Setup the Tool\n",
    "### First, let's install our dependencies"
   ],
   "metadata": {
    "collapsed": false
   },
   "id": "8024471faac3a296"
  },
  {
   "cell_type": "code",
   "outputs": [],
   "source": [
    "! pip install llama-index-core==0.10.0 ionic-api-sdk llama-index-tools-ionic-shopping"
   ],
   "metadata": {
    "collapsed": false
   },
   "id": "856d9803ec1cdd9c",
   "execution_count": null
  },
  {
   "cell_type": "markdown",
   "source": [
    "### Configure OpenAI\n",
    "\n",
    "Create an API key at [OpenAI | API Keys](https://platform.openai.com/api-keys)\n",
    "\n",
    "Either set your environment variable: `export OPENAI_API_KEY=<YOUR_API_KEY_HERE` \n",
    "\n",
    "Or edit the following code block and replace \"YOUR_API_KEY_HERE\" with your key. Be careful to not leak your API Key."
   ],
   "metadata": {
    "collapsed": false
   },
   "id": "eedd002505e12801"
  },
  {
   "cell_type": "code",
   "execution_count": null,
   "id": "initial_id",
   "metadata": {
    "collapsed": true
   },
   "outputs": [],
   "source": [
    "import os\n",
    "import openai\n",
    "from llama_index.legacy.agent import OpenAIAgent\n",
    "\n",
    "openai.api_key = os.environ.get(\"OPENAI_API_KEY\", \"YOUR_API_KEY_HERE\")"
   ]
  },
  {
   "cell_type": "markdown",
   "source": [
    "### Import and configure the Ionic Shopping Tool \n"
   ],
   "metadata": {
    "collapsed": false
   },
   "id": "8506dd2f8e36cad4"
  },
  {
   "cell_type": "code",
   "outputs": [],
   "source": [
    "from llama_index.tools.ionic_shopping import IonicShoppingToolSpec\n",
    "\n",
    "# optionally add you Ionic API Key\n",
    "# IonicShoppingToolSpec(api_key=\"<my Ionic API Key>\")\n",
    "ionic_tool = IonicShoppingToolSpec().to_tool_list()\n",
    "\n",
    "for tool in ionic_tool:\n",
    "    print(tool.metadata.name)"
   ],
   "metadata": {
    "collapsed": false
   },
   "id": "f95ef80d8aa9bd5f",
   "execution_count": null
  },
  {
   "cell_type": "markdown",
   "source": [
    "### Use Ionic"
   ],
   "metadata": {
    "collapsed": false
   },
   "id": "80b4d128986d4a9"
  },
  {
   "cell_type": "code",
   "outputs": [],
   "source": [
    "agent = OpenAIAgent.from_tools(\n",
    "    ionic_tool,\n",
    ")"
   ],
   "metadata": {
    "collapsed": false,
    "ExecuteTime": {
     "end_time": "2024-02-12T20:27:45.923933Z",
     "start_time": "2024-02-12T20:27:45.680561Z"
    }
   },
   "id": "18bd589c4fd6ef44",
   "execution_count": 13
  },
  {
   "cell_type": "code",
   "outputs": [
    {
     "name": "stdout",
     "output_type": "stream",
     "text": [
      "Here are 3 options for 5k monitors between $600 and $1000:\n",
      "\n",
      "1. LG 27MD5KL-B 27 Inch UltraFine 5K (5120 x 2880) IPS Display with macOS Compatibility, DCI-P3 99% Color Gamut and Thunderbolt 3 Port, Black\n",
      "   - Price: $996.99\n",
      "   - [Details](https://www.amazon.com/dp/B07XV9NQSJ?tag=ioniccommer00-20&linkCode=osi&th=1&psc=1)\n",
      "   - ![Thumbnail](https://m.media-amazon.com/images/I/21sZ383pAnL._SL160_.jpg)\n",
      "   - Brand: LG\n",
      "\n",
      "2. LG 48\" UltraGear UHD OLED with Anti-Glare Low Reflection 0.1ms R/T 120Hz Gaming Monitor with G-SYNC Compatible - 48GQ900-B\n",
      "   - Price: $799.00\n",
      "   - [Details](https://brwi.short.gy/OpCsiE)\n",
      "   - ![Thumbnail](https://i5.walmartimages.com/asr/a04e12c3-5b7f-4dad-a64a-3abe8139dcde.753eeedd27deee6934987e1e9de295a3.jpeg?odnHeight=100&odnWidth=100&odnBg=ffffff)\n",
      "   - Brand: LG\n",
      "\n",
      "3. Ultrasharp U3421we Led Monitor Curved 34.1\" 3440 X 1440 Wqhd @ 60 Hz Ips 300 Cd/m\n",
      "   - Price: $716.27\n",
      "   - [Details](https://brwi.short.gy/R1Zwag)\n",
      "   - ![Thumbnail](https://i5.walmartimages.com/asr/6ff82167-eb52-4d5e-bba8-36b12dac0c45.cd1cf1765c616c1ec1fdee7c6cbf6d62.jpeg?odnHeight=100&odnWidth=100&odnBg=ffffff)\n",
      "   - Brand: Dell\n",
      "\n",
      "Please let me know if you need more information about any of these options.\n"
     ]
    }
   ],
   "source": [
    "print(\n",
    "    agent.chat(\n",
    "        \"I'm looking for a 5k monitor can you find me 3 options between $600 and $1000\"\n",
    "    )\n",
    ")"
   ],
   "metadata": {
    "collapsed": false,
    "ExecuteTime": {
     "end_time": "2024-02-12T20:28:00.727392Z",
     "start_time": "2024-02-12T20:27:50.100715Z"
    }
   },
   "id": "aa6ee6bd0b1c8f22",
   "execution_count": 14
  }
 ],
 "metadata": {
  "kernelspec": {
   "display_name": "Python 3",
   "language": "python",
   "name": "python3"
  },
  "language_info": {
   "codemirror_mode": {
    "name": "ipython",
    "version": 2
   },
   "file_extension": ".py",
   "mimetype": "text/x-python",
   "name": "python",
   "nbconvert_exporter": "python",
   "pygments_lexer": "ipython2",
   "version": "2.7.6"
  }
 },
 "nbformat": 4,
 "nbformat_minor": 5
}
